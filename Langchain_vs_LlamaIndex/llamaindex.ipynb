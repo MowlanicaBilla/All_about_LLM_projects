{
 "cells": [
  {
   "cell_type": "code",
   "execution_count": 1,
   "metadata": {},
   "outputs": [
    {
     "name": "stdout",
     "output_type": "stream",
     "text": [
      "[Document(id_='0ed79c6b-a486-4f18-bd2a-95e787dd1777', embedding=None, metadata={'file_path': '/Users/mowlanica.billa/Desktop/Desktop/Data_Science/Projects/LLM/RAG/Langchain_Vs_LlamaIndex/data/text.txt', 'file_name': 'text.txt', 'file_type': 'text/plain', 'file_size': 1331, 'creation_date': '2024-03-09', 'last_modified_date': '2024-03-02'}, excluded_embed_metadata_keys=['file_name', 'file_type', 'file_size', 'creation_date', 'last_modified_date', 'last_accessed_date'], excluded_llm_metadata_keys=['file_name', 'file_type', 'file_size', 'creation_date', 'last_modified_date', 'last_accessed_date'], relationships={}, text='Q: What makes our pizza unique?\\nA: Our pizzas are made with a secret family recipe for the dough, hand-tossed, and topped with fresh, locally-sourced ingredients. We use a traditional wood-fired oven to give our pizzas a distinctive smoky flavor and crisp crust.\\n\\nQ: Do we offer gluten-free pizza options?\\nA: Yes, we offer a delicious gluten-free crust option for our guests with dietary restrictions or preferences.\\n\\nQ: Can customers create their own pizza?\\nA: Absolutely! Customers can choose from a variety of fresh toppings to create their own unique pizza masterpiece.\\n\\nQ: What are our most popular pizzas?\\nA: Our most popular pizzas include the Classic Margherita, Pepperoni Supreme, and the Gourmet Vegetarian. Each offers a unique blend of flavors that cater to a variety of tastes.\\n\\nQ: Do we offer vegan pizza options?\\nA: Yes, we have vegan pizza options which include dairy-free cheese and a variety of fresh vegetable toppings.\\n\\nQ: How long does it take to prepare a pizza?\\nA: On average, it takes about 15-20 minutes from the time you order until your pizza is ready. This time ensures that each pizza is cooked to perfection.\\n\\nQ: Can customers order pizza for delivery?\\nA: Yes, we offer delivery services within a certain radius of our restaurant, ensuring that you can enjoy our pizzas from the comfort of your home.\\n', start_char_idx=None, end_char_idx=None, text_template='{metadata_str}\\n\\n{content}', metadata_template='{key}: {value}', metadata_seperator='\\n')]\n",
      "Q: What makes our pizza unique?\n",
      "A: Our pizzas are made with a secret family recipe for the dough, hand-tossed, and topped with fresh, locally-sourced ingredients. We use a traditional wood-fired oven to give our pizzas a distinctive smoky flavor and crisp crust.\n",
      "\n",
      "Q: Do we offer gluten-free pizza options?\n",
      "A: Yes, we offer a delicious gluten-free crust option for our guests with dietary restrictions or preferences.\n",
      "\n",
      "Q: Can customers create their own pizza?\n",
      "A: Absolutely! Customers can choose from a variety of fresh toppings to create their own unique pizza masterpiece.\n",
      "\n",
      "Q: What are our most popular pizzas?\n",
      "A: Our most popular pizzas include the Classic Margherita, Pepperoni Supreme, and the Gourmet Vegetarian. Each offers a unique blend of flavors that cater to a variety of tastes.\n",
      "\n",
      "Q: Do we offer vegan pizza options?\n",
      "A: Yes, we have vegan pizza options which include dairy-free cheese and a variety of fresh vegetable toppings.\n",
      "\n",
      "Q: How long does it take to prepare a pizza?\n",
      "A: On average, it takes about 15-20 minutes from the time you order until your pizza is ready. This time ensures that each pizza is cooked to perfection.\n",
      "\n",
      "Q: Can customers order pizza for delivery?\n",
      "A: Yes, we offer delivery services within a certain radius of our restaurant, ensuring that you can enjoy our pizzas from the comfort of your home.\n",
      "\n"
     ]
    }
   ],
   "source": [
    "from llama_index.core import VectorStoreIndex, SimpleDirectoryReader\n",
    "from llama_index.llms.openai import OpenAI\n",
    "from llama_index.core import Settings\n",
    "from dotenv import load_dotenv\n",
    "\n",
    "load_dotenv()\n",
    "\n",
    "documents = SimpleDirectoryReader(\"data\").load_data()\n",
    "print(documents)\n",
    "print(documents[0].text)"
   ]
  },
  {
   "cell_type": "code",
   "execution_count": 2,
   "metadata": {},
   "outputs": [],
   "source": [
    "from llama_index.core.node_parser import SentenceSplitter\n",
    "\n",
    "text_splitter = SentenceSplitter(chunk_size=200, chunk_overlap=10)\n",
    "nodes = text_splitter.get_nodes_from_documents(documents=documents)\n"
   ]
  },
  {
   "cell_type": "code",
   "execution_count": 3,
   "metadata": {},
   "outputs": [
    {
     "data": {
      "text/plain": [
       "[TextNode(id_='a45c548c-afc4-4359-808d-e346f1c4db39', embedding=None, metadata={'file_path': '/Users/mowlanica.billa/Desktop/Desktop/Data_Science/Projects/LLM/RAG/Langchain_Vs_LlamaIndex/data/text.txt', 'file_name': 'text.txt', 'file_type': 'text/plain', 'file_size': 1331, 'creation_date': '2024-03-09', 'last_modified_date': '2024-03-02'}, excluded_embed_metadata_keys=['file_name', 'file_type', 'file_size', 'creation_date', 'last_modified_date', 'last_accessed_date'], excluded_llm_metadata_keys=['file_name', 'file_type', 'file_size', 'creation_date', 'last_modified_date', 'last_accessed_date'], relationships={<NodeRelationship.SOURCE: '1'>: RelatedNodeInfo(node_id='0ed79c6b-a486-4f18-bd2a-95e787dd1777', node_type=<ObjectType.DOCUMENT: '4'>, metadata={'file_path': '/Users/mowlanica.billa/Desktop/Desktop/Data_Science/Projects/LLM/RAG/Langchain_Vs_LlamaIndex/data/text.txt', 'file_name': 'text.txt', 'file_type': 'text/plain', 'file_size': 1331, 'creation_date': '2024-03-09', 'last_modified_date': '2024-03-02'}, hash='a605fa5ccb317b0bae4352b0399fea0c46cc709518b3e2f7ec539bbf239c4041'), <NodeRelationship.NEXT: '3'>: RelatedNodeInfo(node_id='89c80310-3ec7-4bb9-8530-d43feb4c6869', node_type=<ObjectType.TEXT: '1'>, metadata={}, hash='7249cd8fe920c02b81f0b7260f904fc0271022b9febdef74cc3ed5e43d4eaaa8')}, text='Q: What makes our pizza unique?\\nA: Our pizzas are made with a secret family recipe for the dough, hand-tossed, and topped with fresh, locally-sourced ingredients. We use a traditional wood-fired oven to give our pizzas a distinctive smoky flavor and crisp crust.\\n\\nQ: Do we offer gluten-free pizza options?\\nA: Yes, we offer a delicious gluten-free crust option for our guests with dietary restrictions or preferences.\\n\\nQ: Can customers create their own pizza?\\nA: Absolutely! Customers can choose from a variety of fresh toppings to create their own unique pizza masterpiece.\\n\\nQ: What are our most popular pizzas?\\nA: Our most popular pizzas include the Classic Margherita, Pepperoni Supreme, and the Gourmet Vegetarian.', start_char_idx=0, end_char_idx=717, text_template='{metadata_str}\\n\\n{content}', metadata_template='{key}: {value}', metadata_seperator='\\n'),\n",
       " TextNode(id_='89c80310-3ec7-4bb9-8530-d43feb4c6869', embedding=None, metadata={'file_path': '/Users/mowlanica.billa/Desktop/Desktop/Data_Science/Projects/LLM/RAG/Langchain_Vs_LlamaIndex/data/text.txt', 'file_name': 'text.txt', 'file_type': 'text/plain', 'file_size': 1331, 'creation_date': '2024-03-09', 'last_modified_date': '2024-03-02'}, excluded_embed_metadata_keys=['file_name', 'file_type', 'file_size', 'creation_date', 'last_modified_date', 'last_accessed_date'], excluded_llm_metadata_keys=['file_name', 'file_type', 'file_size', 'creation_date', 'last_modified_date', 'last_accessed_date'], relationships={<NodeRelationship.SOURCE: '1'>: RelatedNodeInfo(node_id='0ed79c6b-a486-4f18-bd2a-95e787dd1777', node_type=<ObjectType.DOCUMENT: '4'>, metadata={'file_path': '/Users/mowlanica.billa/Desktop/Desktop/Data_Science/Projects/LLM/RAG/Langchain_Vs_LlamaIndex/data/text.txt', 'file_name': 'text.txt', 'file_type': 'text/plain', 'file_size': 1331, 'creation_date': '2024-03-09', 'last_modified_date': '2024-03-02'}, hash='a605fa5ccb317b0bae4352b0399fea0c46cc709518b3e2f7ec539bbf239c4041'), <NodeRelationship.PREVIOUS: '2'>: RelatedNodeInfo(node_id='a45c548c-afc4-4359-808d-e346f1c4db39', node_type=<ObjectType.TEXT: '1'>, metadata={'file_path': '/Users/mowlanica.billa/Desktop/Desktop/Data_Science/Projects/LLM/RAG/Langchain_Vs_LlamaIndex/data/text.txt', 'file_name': 'text.txt', 'file_type': 'text/plain', 'file_size': 1331, 'creation_date': '2024-03-09', 'last_modified_date': '2024-03-02'}, hash='0f344bf5b04e572de04ae95cdfb79d9a40f1f62b12c23ce7e6e686fb465e2276')}, text='Each offers a unique blend of flavors that cater to a variety of tastes.\\n\\nQ: Do we offer vegan pizza options?\\nA: Yes, we have vegan pizza options which include dairy-free cheese and a variety of fresh vegetable toppings.\\n\\nQ: How long does it take to prepare a pizza?\\nA: On average, it takes about 15-20 minutes from the time you order until your pizza is ready. This time ensures that each pizza is cooked to perfection.\\n\\nQ: Can customers order pizza for delivery?\\nA: Yes, we offer delivery services within a certain radius of our restaurant, ensuring that you can enjoy our pizzas from the comfort of your home.', start_char_idx=718, end_char_idx=1330, text_template='{metadata_str}\\n\\n{content}', metadata_template='{key}: {value}', metadata_seperator='\\n')]"
      ]
     },
     "execution_count": 3,
     "metadata": {},
     "output_type": "execute_result"
    }
   ],
   "source": [
    "nodes"
   ]
  },
  {
   "cell_type": "code",
   "execution_count": 4,
   "metadata": {},
   "outputs": [
    {
     "name": "stdout",
     "output_type": "stream",
     "text": [
      "1\n",
      "2\n"
     ]
    }
   ],
   "source": [
    "print(len(documents))\n",
    "print(len(nodes))"
   ]
  },
  {
   "cell_type": "code",
   "execution_count": 5,
   "metadata": {},
   "outputs": [],
   "source": [
    "from llama_index.vector_stores.chroma import ChromaVectorStore\n",
    "import chromadb\n",
    "from llama_index.core import StorageContext\n",
    "from llama_index.embeddings.openai import OpenAIEmbedding\n",
    "\n",
    "chroma_client = chromadb.EphemeralClient()\n",
    "chroma_collection = chroma_client.create_collection(\"tes1233t\")\n",
    "vector_store = ChromaVectorStore(chroma_collection=chroma_collection)\n",
    "storage_context = StorageContext.from_defaults(vector_store=vector_store)"
   ]
  },
  {
   "cell_type": "code",
   "execution_count": 6,
   "metadata": {},
   "outputs": [],
   "source": [
    "index = VectorStoreIndex.from_documents(\n",
    "    documents, storage_context=storage_context, embed_model=OpenAIEmbedding()\n",
    ")"
   ]
  },
  {
   "cell_type": "code",
   "execution_count": 7,
   "metadata": {},
   "outputs": [],
   "source": [
    "index = VectorStoreIndex(nodes=nodes, storage_context=storage_context, embed_model=OpenAIEmbedding())"
   ]
  },
  {
   "cell_type": "code",
   "execution_count": 8,
   "metadata": {},
   "outputs": [],
   "source": [
    "retriever = index.as_retriever()"
   ]
  },
  {
   "cell_type": "code",
   "execution_count": 9,
   "metadata": {},
   "outputs": [
    {
     "data": {
      "text/plain": [
       "[NodeWithScore(node=TextNode(id_='89c80310-3ec7-4bb9-8530-d43feb4c6869', embedding=None, metadata={'file_path': '/Users/mowlanica.billa/Desktop/Desktop/Data_Science/Projects/LLM/RAG/Langchain_Vs_LlamaIndex/data/text.txt', 'file_name': 'text.txt', 'file_type': 'text/plain', 'file_size': 1331, 'creation_date': '2024-03-09', 'last_modified_date': '2024-03-02'}, excluded_embed_metadata_keys=['file_name', 'file_type', 'file_size', 'creation_date', 'last_modified_date', 'last_accessed_date'], excluded_llm_metadata_keys=['file_name', 'file_type', 'file_size', 'creation_date', 'last_modified_date', 'last_accessed_date'], relationships={<NodeRelationship.SOURCE: '1'>: RelatedNodeInfo(node_id='0ed79c6b-a486-4f18-bd2a-95e787dd1777', node_type=<ObjectType.DOCUMENT: '4'>, metadata={'file_path': '/Users/mowlanica.billa/Desktop/Desktop/Data_Science/Projects/LLM/RAG/Langchain_Vs_LlamaIndex/data/text.txt', 'file_name': 'text.txt', 'file_type': 'text/plain', 'file_size': 1331, 'creation_date': '2024-03-09', 'last_modified_date': '2024-03-02'}, hash='a605fa5ccb317b0bae4352b0399fea0c46cc709518b3e2f7ec539bbf239c4041'), <NodeRelationship.PREVIOUS: '2'>: RelatedNodeInfo(node_id='a45c548c-afc4-4359-808d-e346f1c4db39', node_type=<ObjectType.TEXT: '1'>, metadata={'file_path': '/Users/mowlanica.billa/Desktop/Desktop/Data_Science/Projects/LLM/RAG/Langchain_Vs_LlamaIndex/data/text.txt', 'file_name': 'text.txt', 'file_type': 'text/plain', 'file_size': 1331, 'creation_date': '2024-03-09', 'last_modified_date': '2024-03-02'}, hash='0f344bf5b04e572de04ae95cdfb79d9a40f1f62b12c23ce7e6e686fb465e2276')}, text='Each offers a unique blend of flavors that cater to a variety of tastes.\\n\\nQ: Do we offer vegan pizza options?\\nA: Yes, we have vegan pizza options which include dairy-free cheese and a variety of fresh vegetable toppings.\\n\\nQ: How long does it take to prepare a pizza?\\nA: On average, it takes about 15-20 minutes from the time you order until your pizza is ready. This time ensures that each pizza is cooked to perfection.\\n\\nQ: Can customers order pizza for delivery?\\nA: Yes, we offer delivery services within a certain radius of our restaurant, ensuring that you can enjoy our pizzas from the comfort of your home.', start_char_idx=718, end_char_idx=1330, text_template='{metadata_str}\\n\\n{content}', metadata_template='{key}: {value}', metadata_seperator='\\n'), score=0.7526762333338716),\n",
       " NodeWithScore(node=TextNode(id_='4c358cdf-296a-4444-8b21-bc9842d01f65', embedding=None, metadata={'file_path': '/Users/mowlanica.billa/Desktop/Desktop/Data_Science/Projects/LLM/RAG/Langchain_Vs_LlamaIndex/data/text.txt', 'file_name': 'text.txt', 'file_type': 'text/plain', 'file_size': 1331, 'creation_date': '2024-03-09', 'last_modified_date': '2024-03-02'}, excluded_embed_metadata_keys=['file_name', 'file_type', 'file_size', 'creation_date', 'last_modified_date', 'last_accessed_date'], excluded_llm_metadata_keys=['file_name', 'file_type', 'file_size', 'creation_date', 'last_modified_date', 'last_accessed_date'], relationships={<NodeRelationship.SOURCE: '1'>: RelatedNodeInfo(node_id='0ed79c6b-a486-4f18-bd2a-95e787dd1777', node_type=<ObjectType.DOCUMENT: '4'>, metadata={'file_path': '/Users/mowlanica.billa/Desktop/Desktop/Data_Science/Projects/LLM/RAG/Langchain_Vs_LlamaIndex/data/text.txt', 'file_name': 'text.txt', 'file_type': 'text/plain', 'file_size': 1331, 'creation_date': '2024-03-09', 'last_modified_date': '2024-03-02'}, hash='a605fa5ccb317b0bae4352b0399fea0c46cc709518b3e2f7ec539bbf239c4041')}, text='Q: What makes our pizza unique?\\nA: Our pizzas are made with a secret family recipe for the dough, hand-tossed, and topped with fresh, locally-sourced ingredients. We use a traditional wood-fired oven to give our pizzas a distinctive smoky flavor and crisp crust.\\n\\nQ: Do we offer gluten-free pizza options?\\nA: Yes, we offer a delicious gluten-free crust option for our guests with dietary restrictions or preferences.\\n\\nQ: Can customers create their own pizza?\\nA: Absolutely! Customers can choose from a variety of fresh toppings to create their own unique pizza masterpiece.\\n\\nQ: What are our most popular pizzas?\\nA: Our most popular pizzas include the Classic Margherita, Pepperoni Supreme, and the Gourmet Vegetarian. Each offers a unique blend of flavors that cater to a variety of tastes.\\n\\nQ: Do we offer vegan pizza options?\\nA: Yes, we have vegan pizza options which include dairy-free cheese and a variety of fresh vegetable toppings.\\n\\nQ: How long does it take to prepare a pizza?\\nA: On average, it takes about 15-20 minutes from the time you order until your pizza is ready. This time ensures that each pizza is cooked to perfection.\\n\\nQ: Can customers order pizza for delivery?\\nA: Yes, we offer delivery services within a certain radius of our restaurant, ensuring that you can enjoy our pizzas from the comfort of your home.', start_char_idx=0, end_char_idx=1330, text_template='{metadata_str}\\n\\n{content}', metadata_template='{key}: {value}', metadata_seperator='\\n'), score=0.744960829546834)]"
      ]
     },
     "execution_count": 9,
     "metadata": {},
     "output_type": "execute_result"
    }
   ],
   "source": [
    "retriever.retrieve(\"How long does it take to prepare a pizza\")"
   ]
  },
  {
   "cell_type": "code",
   "execution_count": 10,
   "metadata": {},
   "outputs": [
    {
     "data": {
      "text/plain": [
       "Response(response='On average, it takes about 15-20 minutes from the time you order until your pizza is ready. This time ensures that each pizza is cooked to perfection.', source_nodes=[NodeWithScore(node=TextNode(id_='89c80310-3ec7-4bb9-8530-d43feb4c6869', embedding=None, metadata={'file_path': '/Users/mowlanica.billa/Desktop/Desktop/Data_Science/Projects/LLM/RAG/Langchain_Vs_LlamaIndex/data/text.txt', 'file_name': 'text.txt', 'file_type': 'text/plain', 'file_size': 1331, 'creation_date': '2024-03-09', 'last_modified_date': '2024-03-02'}, excluded_embed_metadata_keys=['file_name', 'file_type', 'file_size', 'creation_date', 'last_modified_date', 'last_accessed_date'], excluded_llm_metadata_keys=['file_name', 'file_type', 'file_size', 'creation_date', 'last_modified_date', 'last_accessed_date'], relationships={<NodeRelationship.SOURCE: '1'>: RelatedNodeInfo(node_id='0ed79c6b-a486-4f18-bd2a-95e787dd1777', node_type=<ObjectType.DOCUMENT: '4'>, metadata={'file_path': '/Users/mowlanica.billa/Desktop/Desktop/Data_Science/Projects/LLM/RAG/Langchain_Vs_LlamaIndex/data/text.txt', 'file_name': 'text.txt', 'file_type': 'text/plain', 'file_size': 1331, 'creation_date': '2024-03-09', 'last_modified_date': '2024-03-02'}, hash='a605fa5ccb317b0bae4352b0399fea0c46cc709518b3e2f7ec539bbf239c4041'), <NodeRelationship.PREVIOUS: '2'>: RelatedNodeInfo(node_id='a45c548c-afc4-4359-808d-e346f1c4db39', node_type=<ObjectType.TEXT: '1'>, metadata={'file_path': '/Users/mowlanica.billa/Desktop/Desktop/Data_Science/Projects/LLM/RAG/Langchain_Vs_LlamaIndex/data/text.txt', 'file_name': 'text.txt', 'file_type': 'text/plain', 'file_size': 1331, 'creation_date': '2024-03-09', 'last_modified_date': '2024-03-02'}, hash='0f344bf5b04e572de04ae95cdfb79d9a40f1f62b12c23ce7e6e686fb465e2276')}, text='Each offers a unique blend of flavors that cater to a variety of tastes.\\n\\nQ: Do we offer vegan pizza options?\\nA: Yes, we have vegan pizza options which include dairy-free cheese and a variety of fresh vegetable toppings.\\n\\nQ: How long does it take to prepare a pizza?\\nA: On average, it takes about 15-20 minutes from the time you order until your pizza is ready. This time ensures that each pizza is cooked to perfection.\\n\\nQ: Can customers order pizza for delivery?\\nA: Yes, we offer delivery services within a certain radius of our restaurant, ensuring that you can enjoy our pizzas from the comfort of your home.', start_char_idx=718, end_char_idx=1330, text_template='{metadata_str}\\n\\n{content}', metadata_template='{key}: {value}', metadata_seperator='\\n'), score=0.7526762333338716), NodeWithScore(node=TextNode(id_='4c358cdf-296a-4444-8b21-bc9842d01f65', embedding=None, metadata={'file_path': '/Users/mowlanica.billa/Desktop/Desktop/Data_Science/Projects/LLM/RAG/Langchain_Vs_LlamaIndex/data/text.txt', 'file_name': 'text.txt', 'file_type': 'text/plain', 'file_size': 1331, 'creation_date': '2024-03-09', 'last_modified_date': '2024-03-02'}, excluded_embed_metadata_keys=['file_name', 'file_type', 'file_size', 'creation_date', 'last_modified_date', 'last_accessed_date'], excluded_llm_metadata_keys=['file_name', 'file_type', 'file_size', 'creation_date', 'last_modified_date', 'last_accessed_date'], relationships={<NodeRelationship.SOURCE: '1'>: RelatedNodeInfo(node_id='0ed79c6b-a486-4f18-bd2a-95e787dd1777', node_type=<ObjectType.DOCUMENT: '4'>, metadata={'file_path': '/Users/mowlanica.billa/Desktop/Desktop/Data_Science/Projects/LLM/RAG/Langchain_Vs_LlamaIndex/data/text.txt', 'file_name': 'text.txt', 'file_type': 'text/plain', 'file_size': 1331, 'creation_date': '2024-03-09', 'last_modified_date': '2024-03-02'}, hash='a605fa5ccb317b0bae4352b0399fea0c46cc709518b3e2f7ec539bbf239c4041')}, text='Q: What makes our pizza unique?\\nA: Our pizzas are made with a secret family recipe for the dough, hand-tossed, and topped with fresh, locally-sourced ingredients. We use a traditional wood-fired oven to give our pizzas a distinctive smoky flavor and crisp crust.\\n\\nQ: Do we offer gluten-free pizza options?\\nA: Yes, we offer a delicious gluten-free crust option for our guests with dietary restrictions or preferences.\\n\\nQ: Can customers create their own pizza?\\nA: Absolutely! Customers can choose from a variety of fresh toppings to create their own unique pizza masterpiece.\\n\\nQ: What are our most popular pizzas?\\nA: Our most popular pizzas include the Classic Margherita, Pepperoni Supreme, and the Gourmet Vegetarian. Each offers a unique blend of flavors that cater to a variety of tastes.\\n\\nQ: Do we offer vegan pizza options?\\nA: Yes, we have vegan pizza options which include dairy-free cheese and a variety of fresh vegetable toppings.\\n\\nQ: How long does it take to prepare a pizza?\\nA: On average, it takes about 15-20 minutes from the time you order until your pizza is ready. This time ensures that each pizza is cooked to perfection.\\n\\nQ: Can customers order pizza for delivery?\\nA: Yes, we offer delivery services within a certain radius of our restaurant, ensuring that you can enjoy our pizzas from the comfort of your home.', start_char_idx=0, end_char_idx=1330, text_template='{metadata_str}\\n\\n{content}', metadata_template='{key}: {value}', metadata_seperator='\\n'), score=0.744960829546834)], metadata={'89c80310-3ec7-4bb9-8530-d43feb4c6869': {'file_path': '/Users/mowlanica.billa/Desktop/Desktop/Data_Science/Projects/LLM/RAG/Langchain_Vs_LlamaIndex/data/text.txt', 'file_name': 'text.txt', 'file_type': 'text/plain', 'file_size': 1331, 'creation_date': '2024-03-09', 'last_modified_date': '2024-03-02'}, '4c358cdf-296a-4444-8b21-bc9842d01f65': {'file_path': '/Users/mowlanica.billa/Desktop/Desktop/Data_Science/Projects/LLM/RAG/Langchain_Vs_LlamaIndex/data/text.txt', 'file_name': 'text.txt', 'file_type': 'text/plain', 'file_size': 1331, 'creation_date': '2024-03-09', 'last_modified_date': '2024-03-02'}})"
      ]
     },
     "execution_count": 10,
     "metadata": {},
     "output_type": "execute_result"
    }
   ],
   "source": [
    "llm = OpenAI(model=\"gpt-3.5-turbo\")\n",
    "query_engine = index.as_query_engine(llm=llm)\n",
    "# Settings.llm = OpenAI(model=\"gpt-3.5-turbo\")\n",
    "query_engine.query(\"How long does it take to prepare a pizza\")"
   ]
  },
  {
   "cell_type": "code",
   "execution_count": 11,
   "metadata": {},
   "outputs": [
    {
     "name": "stdout",
     "output_type": "stream",
     "text": [
      "{'response_synthesizer:text_qa_template': SelectorPromptTemplate(metadata={'prompt_type': <PromptType.QUESTION_ANSWER: 'text_qa'>}, template_vars=['context_str', 'query_str'], kwargs={}, output_parser=None, template_var_mappings={}, function_mappings={}, default_template=PromptTemplate(metadata={'prompt_type': <PromptType.QUESTION_ANSWER: 'text_qa'>}, template_vars=['context_str', 'query_str'], kwargs={}, output_parser=None, template_var_mappings=None, function_mappings=None, template='Context information is below.\\n---------------------\\n{context_str}\\n---------------------\\nGiven the context information and not prior knowledge, answer the query.\\nQuery: {query_str}\\nAnswer: '), conditionals=[(<function is_chat_model at 0x12700d080>, ChatPromptTemplate(metadata={'prompt_type': <PromptType.CUSTOM: 'custom'>}, template_vars=['context_str', 'query_str'], kwargs={}, output_parser=None, template_var_mappings=None, function_mappings=None, message_templates=[ChatMessage(role=<MessageRole.SYSTEM: 'system'>, content=\"You are an expert Q&A system that is trusted around the world.\\nAlways answer the query using the provided context information, and not prior knowledge.\\nSome rules to follow:\\n1. Never directly reference the given context in your answer.\\n2. Avoid statements like 'Based on the context, ...' or 'The context information ...' or anything along those lines.\", additional_kwargs={}), ChatMessage(role=<MessageRole.USER: 'user'>, content='Context information is below.\\n---------------------\\n{context_str}\\n---------------------\\nGiven the context information and not prior knowledge, answer the query.\\nQuery: {query_str}\\nAnswer: ', additional_kwargs={})]))]), 'response_synthesizer:refine_template': SelectorPromptTemplate(metadata={'prompt_type': <PromptType.REFINE: 'refine'>}, template_vars=['query_str', 'existing_answer', 'context_msg'], kwargs={}, output_parser=None, template_var_mappings={}, function_mappings={}, default_template=PromptTemplate(metadata={'prompt_type': <PromptType.REFINE: 'refine'>}, template_vars=['query_str', 'existing_answer', 'context_msg'], kwargs={}, output_parser=None, template_var_mappings=None, function_mappings=None, template=\"The original query is as follows: {query_str}\\nWe have provided an existing answer: {existing_answer}\\nWe have the opportunity to refine the existing answer (only if needed) with some more context below.\\n------------\\n{context_msg}\\n------------\\nGiven the new context, refine the original answer to better answer the query. If the context isn't useful, return the original answer.\\nRefined Answer: \"), conditionals=[(<function is_chat_model at 0x12700d080>, ChatPromptTemplate(metadata={'prompt_type': <PromptType.CUSTOM: 'custom'>}, template_vars=['context_msg', 'query_str', 'existing_answer'], kwargs={}, output_parser=None, template_var_mappings=None, function_mappings=None, message_templates=[ChatMessage(role=<MessageRole.USER: 'user'>, content=\"You are an expert Q&A system that strictly operates in two modes when refining existing answers:\\n1. **Rewrite** an original answer using the new context.\\n2. **Repeat** the original answer if the new context isn't useful.\\nNever reference the original answer or context directly in your answer.\\nWhen in doubt, just repeat the original answer.\\nNew Context: {context_msg}\\nQuery: {query_str}\\nOriginal Answer: {existing_answer}\\nNew Answer: \", additional_kwargs={})]))])}\n"
     ]
    }
   ],
   "source": [
    "prompts_dict = query_engine.get_prompts()\n",
    "print(prompts_dict)"
   ]
  },
  {
   "cell_type": "code",
   "execution_count": 12,
   "metadata": {},
   "outputs": [],
   "source": [
    "from llama_index.core import PromptTemplate\n",
    "\n",
    "new_summary_tmpl_str = (\n",
    "    \"You always say 'Hello my friend' at the beginning of your answer. Below you find data from a database\\n\"\n",
    "    \"{context_str}\\n\"\n",
    "    \"Take that context and try to answer the question with it.\"\n",
    "    \"Query: {query_str}\\n\"\n",
    "    \"Answer: \"\n",
    ")\n",
    "new_summary_tmpl = PromptTemplate(new_summary_tmpl_str)"
   ]
  },
  {
   "cell_type": "code",
   "execution_count": 13,
   "metadata": {},
   "outputs": [],
   "source": [
    "query_engine.update_prompts(\n",
    "    {\"response_synthesizer:text_qa_template\": new_summary_tmpl}\n",
    ")"
   ]
  },
  {
   "cell_type": "code",
   "execution_count": 14,
   "metadata": {},
   "outputs": [
    {
     "name": "stdout",
     "output_type": "stream",
     "text": [
      "{'response_synthesizer:text_qa_template': PromptTemplate(metadata={'prompt_type': <PromptType.CUSTOM: 'custom'>}, template_vars=['context_str', 'query_str'], kwargs={}, output_parser=None, template_var_mappings=None, function_mappings=None, template=\"You always say 'Hello my friend' at the beginning of your answer. Below you find data from a database\\n{context_str}\\nTake that context and try to answer the question with it.Query: {query_str}\\nAnswer: \"), 'response_synthesizer:refine_template': SelectorPromptTemplate(metadata={'prompt_type': <PromptType.REFINE: 'refine'>}, template_vars=['query_str', 'existing_answer', 'context_msg'], kwargs={}, output_parser=None, template_var_mappings={}, function_mappings={}, default_template=PromptTemplate(metadata={'prompt_type': <PromptType.REFINE: 'refine'>}, template_vars=['query_str', 'existing_answer', 'context_msg'], kwargs={}, output_parser=None, template_var_mappings=None, function_mappings=None, template=\"The original query is as follows: {query_str}\\nWe have provided an existing answer: {existing_answer}\\nWe have the opportunity to refine the existing answer (only if needed) with some more context below.\\n------------\\n{context_msg}\\n------------\\nGiven the new context, refine the original answer to better answer the query. If the context isn't useful, return the original answer.\\nRefined Answer: \"), conditionals=[(<function is_chat_model at 0x12700d080>, ChatPromptTemplate(metadata={'prompt_type': <PromptType.CUSTOM: 'custom'>}, template_vars=['context_msg', 'query_str', 'existing_answer'], kwargs={}, output_parser=None, template_var_mappings=None, function_mappings=None, message_templates=[ChatMessage(role=<MessageRole.USER: 'user'>, content=\"You are an expert Q&A system that strictly operates in two modes when refining existing answers:\\n1. **Rewrite** an original answer using the new context.\\n2. **Repeat** the original answer if the new context isn't useful.\\nNever reference the original answer or context directly in your answer.\\nWhen in doubt, just repeat the original answer.\\nNew Context: {context_msg}\\nQuery: {query_str}\\nOriginal Answer: {existing_answer}\\nNew Answer: \", additional_kwargs={})]))])}\n"
     ]
    }
   ],
   "source": [
    "prompts_dict = query_engine.get_prompts()\n",
    "print(prompts_dict)"
   ]
  },
  {
   "cell_type": "code",
   "execution_count": 15,
   "metadata": {},
   "outputs": [
    {
     "data": {
      "text/plain": [
       "Response(response='Hello my friend,\\n\\nOn average, it takes about 15-20 minutes from the time you order until your pizza is ready. This time ensures that each pizza is cooked to perfection.', source_nodes=[NodeWithScore(node=TextNode(id_='89c80310-3ec7-4bb9-8530-d43feb4c6869', embedding=None, metadata={'file_path': '/Users/mowlanica.billa/Desktop/Desktop/Data_Science/Projects/LLM/RAG/Langchain_Vs_LlamaIndex/data/text.txt', 'file_name': 'text.txt', 'file_type': 'text/plain', 'file_size': 1331, 'creation_date': '2024-03-09', 'last_modified_date': '2024-03-02'}, excluded_embed_metadata_keys=['file_name', 'file_type', 'file_size', 'creation_date', 'last_modified_date', 'last_accessed_date'], excluded_llm_metadata_keys=['file_name', 'file_type', 'file_size', 'creation_date', 'last_modified_date', 'last_accessed_date'], relationships={<NodeRelationship.SOURCE: '1'>: RelatedNodeInfo(node_id='0ed79c6b-a486-4f18-bd2a-95e787dd1777', node_type=<ObjectType.DOCUMENT: '4'>, metadata={'file_path': '/Users/mowlanica.billa/Desktop/Desktop/Data_Science/Projects/LLM/RAG/Langchain_Vs_LlamaIndex/data/text.txt', 'file_name': 'text.txt', 'file_type': 'text/plain', 'file_size': 1331, 'creation_date': '2024-03-09', 'last_modified_date': '2024-03-02'}, hash='a605fa5ccb317b0bae4352b0399fea0c46cc709518b3e2f7ec539bbf239c4041'), <NodeRelationship.PREVIOUS: '2'>: RelatedNodeInfo(node_id='a45c548c-afc4-4359-808d-e346f1c4db39', node_type=<ObjectType.TEXT: '1'>, metadata={'file_path': '/Users/mowlanica.billa/Desktop/Desktop/Data_Science/Projects/LLM/RAG/Langchain_Vs_LlamaIndex/data/text.txt', 'file_name': 'text.txt', 'file_type': 'text/plain', 'file_size': 1331, 'creation_date': '2024-03-09', 'last_modified_date': '2024-03-02'}, hash='0f344bf5b04e572de04ae95cdfb79d9a40f1f62b12c23ce7e6e686fb465e2276')}, text='Each offers a unique blend of flavors that cater to a variety of tastes.\\n\\nQ: Do we offer vegan pizza options?\\nA: Yes, we have vegan pizza options which include dairy-free cheese and a variety of fresh vegetable toppings.\\n\\nQ: How long does it take to prepare a pizza?\\nA: On average, it takes about 15-20 minutes from the time you order until your pizza is ready. This time ensures that each pizza is cooked to perfection.\\n\\nQ: Can customers order pizza for delivery?\\nA: Yes, we offer delivery services within a certain radius of our restaurant, ensuring that you can enjoy our pizzas from the comfort of your home.', start_char_idx=718, end_char_idx=1330, text_template='{metadata_str}\\n\\n{content}', metadata_template='{key}: {value}', metadata_seperator='\\n'), score=0.7526762333338716), NodeWithScore(node=TextNode(id_='4c358cdf-296a-4444-8b21-bc9842d01f65', embedding=None, metadata={'file_path': '/Users/mowlanica.billa/Desktop/Desktop/Data_Science/Projects/LLM/RAG/Langchain_Vs_LlamaIndex/data/text.txt', 'file_name': 'text.txt', 'file_type': 'text/plain', 'file_size': 1331, 'creation_date': '2024-03-09', 'last_modified_date': '2024-03-02'}, excluded_embed_metadata_keys=['file_name', 'file_type', 'file_size', 'creation_date', 'last_modified_date', 'last_accessed_date'], excluded_llm_metadata_keys=['file_name', 'file_type', 'file_size', 'creation_date', 'last_modified_date', 'last_accessed_date'], relationships={<NodeRelationship.SOURCE: '1'>: RelatedNodeInfo(node_id='0ed79c6b-a486-4f18-bd2a-95e787dd1777', node_type=<ObjectType.DOCUMENT: '4'>, metadata={'file_path': '/Users/mowlanica.billa/Desktop/Desktop/Data_Science/Projects/LLM/RAG/Langchain_Vs_LlamaIndex/data/text.txt', 'file_name': 'text.txt', 'file_type': 'text/plain', 'file_size': 1331, 'creation_date': '2024-03-09', 'last_modified_date': '2024-03-02'}, hash='a605fa5ccb317b0bae4352b0399fea0c46cc709518b3e2f7ec539bbf239c4041')}, text='Q: What makes our pizza unique?\\nA: Our pizzas are made with a secret family recipe for the dough, hand-tossed, and topped with fresh, locally-sourced ingredients. We use a traditional wood-fired oven to give our pizzas a distinctive smoky flavor and crisp crust.\\n\\nQ: Do we offer gluten-free pizza options?\\nA: Yes, we offer a delicious gluten-free crust option for our guests with dietary restrictions or preferences.\\n\\nQ: Can customers create their own pizza?\\nA: Absolutely! Customers can choose from a variety of fresh toppings to create their own unique pizza masterpiece.\\n\\nQ: What are our most popular pizzas?\\nA: Our most popular pizzas include the Classic Margherita, Pepperoni Supreme, and the Gourmet Vegetarian. Each offers a unique blend of flavors that cater to a variety of tastes.\\n\\nQ: Do we offer vegan pizza options?\\nA: Yes, we have vegan pizza options which include dairy-free cheese and a variety of fresh vegetable toppings.\\n\\nQ: How long does it take to prepare a pizza?\\nA: On average, it takes about 15-20 minutes from the time you order until your pizza is ready. This time ensures that each pizza is cooked to perfection.\\n\\nQ: Can customers order pizza for delivery?\\nA: Yes, we offer delivery services within a certain radius of our restaurant, ensuring that you can enjoy our pizzas from the comfort of your home.', start_char_idx=0, end_char_idx=1330, text_template='{metadata_str}\\n\\n{content}', metadata_template='{key}: {value}', metadata_seperator='\\n'), score=0.744960829546834)], metadata={'89c80310-3ec7-4bb9-8530-d43feb4c6869': {'file_path': '/Users/mowlanica.billa/Desktop/Desktop/Data_Science/Projects/LLM/RAG/Langchain_Vs_LlamaIndex/data/text.txt', 'file_name': 'text.txt', 'file_type': 'text/plain', 'file_size': 1331, 'creation_date': '2024-03-09', 'last_modified_date': '2024-03-02'}, '4c358cdf-296a-4444-8b21-bc9842d01f65': {'file_path': '/Users/mowlanica.billa/Desktop/Desktop/Data_Science/Projects/LLM/RAG/Langchain_Vs_LlamaIndex/data/text.txt', 'file_name': 'text.txt', 'file_type': 'text/plain', 'file_size': 1331, 'creation_date': '2024-03-09', 'last_modified_date': '2024-03-02'}})"
      ]
     },
     "execution_count": 15,
     "metadata": {},
     "output_type": "execute_result"
    }
   ],
   "source": [
    "query_engine.query(\"How long does it take to prepare a pizza\")"
   ]
  },
  {
   "cell_type": "code",
   "execution_count": null,
   "metadata": {},
   "outputs": [],
   "source": []
  }
 ],
 "metadata": {
  "kernelspec": {
   "display_name": "app",
   "language": "python",
   "name": "python3"
  },
  "language_info": {
   "codemirror_mode": {
    "name": "ipython",
    "version": 3
   },
   "file_extension": ".py",
   "mimetype": "text/x-python",
   "name": "python",
   "nbconvert_exporter": "python",
   "pygments_lexer": "ipython3",
   "version": "3.11.5"
  }
 },
 "nbformat": 4,
 "nbformat_minor": 2
}
