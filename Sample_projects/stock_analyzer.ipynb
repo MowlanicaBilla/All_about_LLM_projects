{
 "cells": [
  {
   "cell_type": "markdown",
   "metadata": {},
   "source": [
    "https://github.com/Pranav082001/stock-analyzer-bot/blob/master/stock_analyzer_bot.ipynb"
   ]
  },
  {
   "cell_type": "code",
   "execution_count": 2,
   "metadata": {},
   "outputs": [],
   "source": [
    "import os\n",
    "import time\n",
    "from bs4 import BeautifulSoup\n",
    "import re\n",
    "import requests\n",
    "import warnings\n",
    "\n",
    "import langchain\n",
    "from langchain.llms import OpenAI\n",
    "from langchain.agents import load_tools, AgentType, Tool, initialize_agent\n",
    "warnings.filterwarnings(\"ignore\")"
   ]
  },
  {
   "cell_type": "code",
   "execution_count": 3,
   "metadata": {},
   "outputs": [],
   "source": [
    "os.environ[\"OPENAI_API_KEY\"] = \"sk-xxxxx\""
   ]
  },
  {
   "cell_type": "code",
   "execution_count": 4,
   "metadata": {},
   "outputs": [],
   "source": [
    "llm=OpenAI(temperature=0,\n",
    "           model_name=\"gpt-3.5-turbo-16k-0613\")"
   ]
  },
  {
   "cell_type": "markdown",
   "metadata": {},
   "source": [
    "### Defining the custom Tools"
   ]
  },
  {
   "cell_type": "code",
   "execution_count": 6,
   "metadata": {},
   "outputs": [
    {
     "name": "stdout",
     "output_type": "stream",
     "text": [
      "                  Close   Volume\n",
      "Date                            \n",
      "2023-11-20  1770.550049  1923651\n",
      "2023-11-21  1767.199951  2705765\n",
      "2023-11-22  1745.650024  4513732\n",
      "2023-11-23  1739.300049  2836289\n",
      "2023-11-24  1744.000000  2561979\n"
     ]
    }
   ],
   "source": [
    "import yfinance as yf\n",
    "\n",
    "# Fetch stock data from Yahoo Finance\n",
    "\n",
    "def get_stock_price(ticker,history=5):\n",
    "    # time.sleep(4) #To avoid rate limit error\n",
    "    if \".\" in ticker:\n",
    "        ticker=ticker.split(\".\")[0]\n",
    "    ticker=ticker+\".NS\"\n",
    "    stock = yf.Ticker(ticker)\n",
    "    df = stock.history(period=\"1y\")\n",
    "    df=df[[\"Close\",\"Volume\"]]\n",
    "    df.index=[str(x).split()[0] for x in list(df.index)]\n",
    "    df.index.rename(\"Date\",inplace=True)\n",
    "    df=df[-history:]\n",
    "    # print(df.columns)\n",
    "    \n",
    "    return df.to_string()\n",
    "\n",
    "print(get_stock_price(\"KOTAKBANK.NS\"))"
   ]
  },
  {
   "cell_type": "code",
   "execution_count": 8,
   "metadata": {},
   "outputs": [
    {
     "name": "stdout",
     "output_type": "stream",
     "text": [
      "Recent News:\n",
      "\n",
      "0. Axis Bank Analyst Day: Key takeaways, share price targets & more\n",
      "1. Axis Bank analyst meet: To focus on strong digi-retail banking; analysts \n",
      "bullish on stock amid reasonable valuations | Mint\n",
      "\n"
     ]
    }
   ],
   "source": [
    "# Script to scrap top5 googgle news for given company name\n",
    "\n",
    "def google_query(search_term):\n",
    "    if \"news\" not in search_term:\n",
    "        search_term=search_term+\" stock news\"\n",
    "    url=f\"https://www.google.com/search?q={search_term}&cr=countryIN\"\n",
    "    url=re.sub(r\"\\s\",\"+\",url)\n",
    "    return url\n",
    "\n",
    "def get_recent_stock_news(company_name):\n",
    "    # time.sleep(4) #To avoid rate limit error\n",
    "    headers={'User-Agent': 'Mozilla/5.0 (Windows NT 10.0; Win64; x64) AppleWebKit/537.36 (KHTML, like Gecko) Chrome/102.0.0.0 Safari/537.36'}\n",
    "\n",
    "    g_query=google_query(company_name)\n",
    "    res=requests.get(g_query,headers=headers).text\n",
    "    soup=BeautifulSoup(res,\"html.parser\")\n",
    "    news=[]\n",
    "    for n in soup.find_all(\"div\",\"n0jPhd ynAwRc tNxQIb nDgy9d\"):\n",
    "        news.append(n.text)\n",
    "    for n in soup.find_all(\"div\",\"IJl0Z\"):\n",
    "        news.append(n.text)\n",
    "\n",
    "\n",
    "    if len(news)>6:\n",
    "        news=news[:4]\n",
    "    else:\n",
    "        news=news\n",
    "    news_string=\"\"\n",
    "    for i,n in enumerate(news):\n",
    "        news_string+=f\"{i}. {n}\\n\"\n",
    "    top5_news=\"Recent News:\\n\\n\"+news_string\n",
    "    \n",
    "    return top5_news\n",
    "\n",
    "\n",
    "print(get_recent_stock_news(\"Axis Bank\"))"
   ]
  },
  {
   "cell_type": "code",
   "execution_count": 9,
   "metadata": {},
   "outputs": [
    {
     "name": "stdout",
     "output_type": "stream",
     "text": [
      "                                                                           2023-03-31       2022-03-31      2021-03-31\n",
      "Ordinary Shares Number                                                   3195339547.0     3196991847.0    3195339547.0\n",
      "Share Issued                                                             3195339547.0     3196991847.0    3195339547.0\n",
      "Net Debt                                                               447846700000.0   445128500000.0  393856600000.0\n",
      "Total Debt                                                             529230000000.0   511952100000.0  467054800000.0\n",
      "Tangible Book Value                                                    255477800000.0   192170700000.0  191818400000.0\n",
      "Invested Capital                                                       777618600000.0   700316500000.0  654904300000.0\n",
      "Working Capital                                                       -130012100000.0  -141013900000.0 -114893300000.0\n",
      "Net Tangible Assets                                                    255477800000.0   192170700000.0  191818400000.0\n",
      "Capital Lease Obligations                                               39485700000.0    36051200000.0   35373100000.0\n",
      "Common Stock Equity                                                    287874300000.0   224415600000.0  223222600000.0\n",
      "Total Capitalization                                                   594959200000.0   551712600000.0  523672900000.0\n",
      "Total Equity Gross Minority Interest                                   342041200000.0   260284600000.0  252495600000.0\n",
      "Minority Interest                                                       54166900000.0    35869000000.0   29273000000.0\n",
      "Stockholders Equity                                                    287874300000.0   224415600000.0  223222600000.0\n",
      "Other Equity Interest                                                  284678700000.0   221220000000.0   15000700000.0\n",
      "Retained Earnings                                                      207701200000.0   152505300000.0   49384000000.0\n",
      "Additional Paid In Capital                                              40552400000.0    41483600000.0   93395600000.0\n",
      "Capital Stock                                                            3195600000.0     3195600000.0    3195600000.0\n",
      "Common Stock                                                             3195600000.0     3195600000.0    3195600000.0\n",
      "Total Liabilities Net Minority Interest                                941449200000.0   868561400000.0  736016500000.0\n",
      "Total Non Current Liabilities Net Minority Interest                    500521400000.0   481224900000.0  426937800000.0\n",
      "Other Non Current Liabilities                                          110831600000.0     6907400000.0    1763200000.0\n",
      "Tradeand Other Payables Non Current                                      5619200000.0     3443800000.0    6705200000.0\n",
      "Non Current Deferred Revenue                                           106555100000.0    88984000000.0   68437000000.0\n",
      "Non Current Deferred Taxes Liabilities                                  19193700000.0    10333000000.0    9761500000.0\n",
      "Long Term Debt And Capital Lease Obligation                            342191900000.0   359374900000.0  331875100000.0\n",
      "Long Term Capital Lease Obligation                                      35107000000.0    32077900000.0   31424800000.0\n",
      "Long Term Debt                                                         307084900000.0   327297000000.0  300450300000.0\n",
      "Long Term Provisions                                                    14200200000.0    12181800000.0    8395800000.0\n",
      "Current Liabilities                                                    440927800000.0   387336500000.0  309078700000.0\n",
      "Other Current Liabilities                                               41884100000.0    34063600000.0   24453500000.0\n",
      "Current Debt And Capital Lease Obligation                              187038100000.0   152577200000.0  135179700000.0\n",
      "Current Capital Lease Obligation                                         4378700000.0     3973300000.0    3948300000.0\n",
      "Current Debt                                                           182659400000.0   148603900000.0  131231400000.0\n",
      "Current Provisions                                                       3110700000.0     3448200000.0    2701100000.0\n",
      "Payables                                                                76251600000.0   144512800000.0  104453000000.0\n",
      "Other Payable                                                           55739500000.0    38212300000.0   31036100000.0\n",
      "Dividends Payable                                                         237000000.0      234500000.0     232300000.0\n",
      "Total Tax Payable                                                        2179600000.0     1470000000.0    1983800000.0\n",
      "Accounts Payable                                                        74072000000.0   104596000000.0   71200800000.0\n",
      "Total Assets                                                          1283490400000.0  1128846000000.0  988512100000.0\n",
      "Total Non Current Assets                                               972574700000.0   882523400000.0  794326700000.0\n",
      "Other Non Current Assets                                               109658900000.0    68105700000.0   64781700000.0\n",
      "Non Current Prepaid Assets                                               7390700000.0    21127000000.0   15158100000.0\n",
      "Non Current Deferred Taxes Assets                                        2529000000.0     3346000000.0    1840200000.0\n",
      "Investmentin Financial Assets                                           30278700000.0    11698100000.0   10948700000.0\n",
      "Available For Sale Securities                                           30278700000.0    11696500000.0   10932700000.0\n",
      "Financial Assets Designatedas Fair Value Through Profitor Loss Total       15500000.0        1600000.0      16000000.0\n",
      "Long Term Equity Investment                                            142188800000.0   125800000000.0  119206300000.0\n",
      "Goodwill And Other Intangible Assets                                    32396500000.0    32244900000.0   31404200000.0\n",
      "Other Intangible Assets                                                 13813400000.0    13661800000.0   13458500000.0\n",
      "Goodwill                                                                18583100000.0    18583100000.0   17945700000.0\n",
      "Net PPE                                                                638833700000.0   588000600000.0  523486600000.0\n",
      "Accumulated Depreciation                                                -8091000000.0  -241656400000.0 -213488100000.0\n",
      "Gross PPE                                                              638833700000.0   829657000000.0  736974700000.0\n",
      "Construction In Progress                                                53763600000.0    46351000000.0   35998000000.0\n",
      "Other Properties                                                       585070100000.0   180296700000.0  142804800000.0\n",
      "Machinery Furniture Equipment                                            7504300000.0   539737700000.0  497834500000.0\n",
      "Buildings And Improvements                                              38306200000.0    34403500000.0   32580100000.0\n",
      "Land And Improvements                                                   13102300000.0    28868100000.0   27757300000.0\n",
      "Properties                                                                        0.0              0.0             0.0\n",
      "Current Assets                                                         310915700000.0   246322600000.0  194185400000.0\n",
      "Other Current Assets                                                    13287200000.0    14796700000.0    9166900000.0\n",
      "Hedging Assets Current                                                   1150700000.0       50600000.0      14800000.0\n",
      "Assets Held For Sale Current                                            32999400000.0    30468300000.0   30474600000.0\n",
      "Current Deferred Assets                                                    11100000.0       11100000.0      11100000.0\n",
      "Restricted Cash                                                         70167700000.0    35634600000.0   23301700000.0\n",
      "Prepaid Assets                                                              6900000.0    15937100000.0   10151600000.0\n",
      "Inventory                                                               39428800000.0    42315200000.0   18848000000.0\n",
      "Other Inventories                                                          15700000.0       16600000.0      16000000.0\n",
      "Finished Goods                                                           5918700000.0     5324400000.0     941500000.0\n",
      "Work In Process                                                            69900000.0      119900000.0    1944000000.0\n",
      "Raw Materials                                                           33424500000.0    36854300000.0   15946500000.0\n",
      "Other Receivables                                                       24682600000.0    26758800000.0   18057300000.0\n",
      "Taxes Receivable                                                            2700000.0        2800000.0      81600000.0\n",
      "Accounts Receivable                                                     69521500000.0    59797400000.0   50009700000.0\n",
      "Allowance For Doubtful Accounts Receivable                             -10158500000.0    -5735600000.0   -4376500000.0\n",
      "Gross Accounts Receivable                                               79680000000.0    65533000000.0   54386200000.0\n",
      "Cash Cash Equivalents And Short Term Investments                       130444300000.0    34877600000.0   42820500000.0\n",
      "Other Short Term Investments                                            88546700000.0     4105200000.0    4995400000.0\n",
      "Cash And Cash Equivalents                                               41897600000.0    30772400000.0   37825100000.0\n",
      "Cash Equivalents                                                        19861500000.0    17020900000.0   25438400000.0\n",
      "Cash Financial                                                          22036100000.0    13751500000.0   12386700000.0\n"
     ]
    }
   ],
   "source": [
    "# Fetch financial statements from Yahoo Finance\n",
    "\n",
    "def get_financial_statements(ticker):\n",
    "    # time.sleep(4) #To avoid rate limit error\n",
    "    if \".\" in ticker:\n",
    "        ticker=ticker.split(\".\")[0]\n",
    "    else:\n",
    "        ticker=ticker\n",
    "    ticker=ticker+\".NS\"    \n",
    "    company = yf.Ticker(ticker)\n",
    "    balance_sheet = company.balance_sheet\n",
    "    if balance_sheet.shape[1]>=3:\n",
    "        balance_sheet=balance_sheet.iloc[:,:3]    # Remove 4th years data\n",
    "    balance_sheet=balance_sheet.dropna(how=\"any\")\n",
    "    balance_sheet = balance_sheet.to_string()\n",
    "    \n",
    "    # cash_flow = company.cash_flow.to_string()\n",
    "    # print(balance_sheet)\n",
    "    # print(cash_flow)\n",
    "    return balance_sheet\n",
    "print(get_financial_statements(\"TATAPOWER.NS\"))"
   ]
  },
  {
   "cell_type": "code",
   "execution_count": 10,
   "metadata": {},
   "outputs": [
    {
     "ename": "ImportError",
     "evalue": "Could not import duckduckgo-search python package. Please install it with `pip install duckduckgo-search`.",
     "output_type": "error",
     "traceback": [
      "\u001b[0;31m---------------------------------------------------------------------------\u001b[0m",
      "\u001b[0;31mModuleNotFoundError\u001b[0m                       Traceback (most recent call last)",
      "File \u001b[0;32m~/Desktop/Data Science/Projects/Stock_Analyzer_using_LLMs/stock_llm/lib/python3.9/site-packages/langchain/utilities/duckduckgo_search.py:31\u001b[0m, in \u001b[0;36mDuckDuckGoSearchAPIWrapper.validate_environment\u001b[0;34m(cls, values)\u001b[0m\n\u001b[1;32m     30\u001b[0m \u001b[39mtry\u001b[39;00m:\n\u001b[0;32m---> 31\u001b[0m     \u001b[39mfrom\u001b[39;00m \u001b[39mduckduckgo_search\u001b[39;00m \u001b[39mimport\u001b[39;00m DDGS  \u001b[39m# noqa: F401\u001b[39;00m\n\u001b[1;32m     32\u001b[0m \u001b[39mexcept\u001b[39;00m \u001b[39mImportError\u001b[39;00m:\n",
      "\u001b[0;31mModuleNotFoundError\u001b[0m: No module named 'duckduckgo_search'",
      "\nDuring handling of the above exception, another exception occurred:\n",
      "\u001b[0;31mImportError\u001b[0m                               Traceback (most recent call last)",
      "Cell \u001b[0;32mIn[10], line 2\u001b[0m\n\u001b[1;32m      1\u001b[0m \u001b[39mfrom\u001b[39;00m \u001b[39mlangchain\u001b[39;00m\u001b[39m.\u001b[39;00m\u001b[39mtools\u001b[39;00m \u001b[39mimport\u001b[39;00m DuckDuckGoSearchRun\n\u001b[0;32m----> 2\u001b[0m search\u001b[39m=\u001b[39mDuckDuckGoSearchRun()\n\u001b[1;32m      4\u001b[0m search(\u001b[39m\"\u001b[39m\u001b[39mStock news India\u001b[39m\u001b[39m\"\u001b[39m)\n",
      "File \u001b[0;32m~/Desktop/Data Science/Projects/Stock_Analyzer_using_LLMs/stock_llm/lib/python3.9/site-packages/langchain/load/serializable.py:97\u001b[0m, in \u001b[0;36mSerializable.__init__\u001b[0;34m(self, **kwargs)\u001b[0m\n\u001b[1;32m     96\u001b[0m \u001b[39mdef\u001b[39;00m \u001b[39m__init__\u001b[39m(\u001b[39mself\u001b[39m, \u001b[39m*\u001b[39m\u001b[39m*\u001b[39mkwargs: Any) \u001b[39m-\u001b[39m\u001b[39m>\u001b[39m \u001b[39mNone\u001b[39;00m:\n\u001b[0;32m---> 97\u001b[0m     \u001b[39msuper\u001b[39;49m()\u001b[39m.\u001b[39;49m\u001b[39m__init__\u001b[39;49m(\u001b[39m*\u001b[39;49m\u001b[39m*\u001b[39;49mkwargs)\n\u001b[1;32m     98\u001b[0m     \u001b[39mself\u001b[39m\u001b[39m.\u001b[39m_lc_kwargs \u001b[39m=\u001b[39m kwargs\n",
      "File \u001b[0;32m~/Desktop/Data Science/Projects/Stock_Analyzer_using_LLMs/stock_llm/lib/python3.9/site-packages/pydantic/v1/main.py:339\u001b[0m, in \u001b[0;36mBaseModel.__init__\u001b[0;34m(__pydantic_self__, **data)\u001b[0m\n\u001b[1;32m    333\u001b[0m \u001b[39m\u001b[39m\u001b[39m\"\"\"\u001b[39;00m\n\u001b[1;32m    334\u001b[0m \u001b[39mCreate a new model by parsing and validating input data from keyword arguments.\u001b[39;00m\n\u001b[1;32m    335\u001b[0m \n\u001b[1;32m    336\u001b[0m \u001b[39mRaises ValidationError if the input data cannot be parsed to form a valid model.\u001b[39;00m\n\u001b[1;32m    337\u001b[0m \u001b[39m\"\"\"\u001b[39;00m\n\u001b[1;32m    338\u001b[0m \u001b[39m# Uses something other than `self` the first arg to allow \"self\" as a settable attribute\u001b[39;00m\n\u001b[0;32m--> 339\u001b[0m values, fields_set, validation_error \u001b[39m=\u001b[39m validate_model(__pydantic_self__\u001b[39m.\u001b[39;49m\u001b[39m__class__\u001b[39;49m, data)\n\u001b[1;32m    340\u001b[0m \u001b[39mif\u001b[39;00m validation_error:\n\u001b[1;32m    341\u001b[0m     \u001b[39mraise\u001b[39;00m validation_error\n",
      "File \u001b[0;32m~/Desktop/Data Science/Projects/Stock_Analyzer_using_LLMs/stock_llm/lib/python3.9/site-packages/pydantic/v1/main.py:1066\u001b[0m, in \u001b[0;36mvalidate_model\u001b[0;34m(model, input_data, cls)\u001b[0m\n\u001b[1;32m   1063\u001b[0m     errors\u001b[39m.\u001b[39mappend(ErrorWrapper(MissingError(), loc\u001b[39m=\u001b[39mfield\u001b[39m.\u001b[39malias))\n\u001b[1;32m   1064\u001b[0m     \u001b[39mcontinue\u001b[39;00m\n\u001b[0;32m-> 1066\u001b[0m value \u001b[39m=\u001b[39m field\u001b[39m.\u001b[39;49mget_default()\n\u001b[1;32m   1068\u001b[0m \u001b[39mif\u001b[39;00m \u001b[39mnot\u001b[39;00m config\u001b[39m.\u001b[39mvalidate_all \u001b[39mand\u001b[39;00m \u001b[39mnot\u001b[39;00m field\u001b[39m.\u001b[39mvalidate_always:\n\u001b[1;32m   1069\u001b[0m     values[name] \u001b[39m=\u001b[39m value\n",
      "File \u001b[0;32m~/Desktop/Data Science/Projects/Stock_Analyzer_using_LLMs/stock_llm/lib/python3.9/site-packages/pydantic/v1/fields.py:439\u001b[0m, in \u001b[0;36mModelField.get_default\u001b[0;34m(self)\u001b[0m\n\u001b[1;32m    438\u001b[0m \u001b[39mdef\u001b[39;00m \u001b[39mget_default\u001b[39m(\u001b[39mself\u001b[39m) \u001b[39m-\u001b[39m\u001b[39m>\u001b[39m Any:\n\u001b[0;32m--> 439\u001b[0m     \u001b[39mreturn\u001b[39;00m smart_deepcopy(\u001b[39mself\u001b[39m\u001b[39m.\u001b[39mdefault) \u001b[39mif\u001b[39;00m \u001b[39mself\u001b[39m\u001b[39m.\u001b[39mdefault_factory \u001b[39mis\u001b[39;00m \u001b[39mNone\u001b[39;00m \u001b[39melse\u001b[39;00m \u001b[39mself\u001b[39;49m\u001b[39m.\u001b[39;49mdefault_factory()\n",
      "File \u001b[0;32m~/Desktop/Data Science/Projects/Stock_Analyzer_using_LLMs/stock_llm/lib/python3.9/site-packages/pydantic/v1/main.py:339\u001b[0m, in \u001b[0;36mBaseModel.__init__\u001b[0;34m(__pydantic_self__, **data)\u001b[0m\n\u001b[1;32m    333\u001b[0m \u001b[39m\u001b[39m\u001b[39m\"\"\"\u001b[39;00m\n\u001b[1;32m    334\u001b[0m \u001b[39mCreate a new model by parsing and validating input data from keyword arguments.\u001b[39;00m\n\u001b[1;32m    335\u001b[0m \n\u001b[1;32m    336\u001b[0m \u001b[39mRaises ValidationError if the input data cannot be parsed to form a valid model.\u001b[39;00m\n\u001b[1;32m    337\u001b[0m \u001b[39m\"\"\"\u001b[39;00m\n\u001b[1;32m    338\u001b[0m \u001b[39m# Uses something other than `self` the first arg to allow \"self\" as a settable attribute\u001b[39;00m\n\u001b[0;32m--> 339\u001b[0m values, fields_set, validation_error \u001b[39m=\u001b[39m validate_model(__pydantic_self__\u001b[39m.\u001b[39;49m\u001b[39m__class__\u001b[39;49m, data)\n\u001b[1;32m    340\u001b[0m \u001b[39mif\u001b[39;00m validation_error:\n\u001b[1;32m    341\u001b[0m     \u001b[39mraise\u001b[39;00m validation_error\n",
      "File \u001b[0;32m~/Desktop/Data Science/Projects/Stock_Analyzer_using_LLMs/stock_llm/lib/python3.9/site-packages/pydantic/v1/main.py:1102\u001b[0m, in \u001b[0;36mvalidate_model\u001b[0;34m(model, input_data, cls)\u001b[0m\n\u001b[1;32m   1100\u001b[0m     \u001b[39mcontinue\u001b[39;00m\n\u001b[1;32m   1101\u001b[0m \u001b[39mtry\u001b[39;00m:\n\u001b[0;32m-> 1102\u001b[0m     values \u001b[39m=\u001b[39m validator(cls_, values)\n\u001b[1;32m   1103\u001b[0m \u001b[39mexcept\u001b[39;00m (\u001b[39mValueError\u001b[39;00m, \u001b[39mTypeError\u001b[39;00m, \u001b[39mAssertionError\u001b[39;00m) \u001b[39mas\u001b[39;00m exc:\n\u001b[1;32m   1104\u001b[0m     errors\u001b[39m.\u001b[39mappend(ErrorWrapper(exc, loc\u001b[39m=\u001b[39mROOT_KEY))\n",
      "File \u001b[0;32m~/Desktop/Data Science/Projects/Stock_Analyzer_using_LLMs/stock_llm/lib/python3.9/site-packages/langchain/utilities/duckduckgo_search.py:33\u001b[0m, in \u001b[0;36mDuckDuckGoSearchAPIWrapper.validate_environment\u001b[0;34m(cls, values)\u001b[0m\n\u001b[1;32m     31\u001b[0m     \u001b[39mfrom\u001b[39;00m \u001b[39mduckduckgo_search\u001b[39;00m \u001b[39mimport\u001b[39;00m DDGS  \u001b[39m# noqa: F401\u001b[39;00m\n\u001b[1;32m     32\u001b[0m \u001b[39mexcept\u001b[39;00m \u001b[39mImportError\u001b[39;00m:\n\u001b[0;32m---> 33\u001b[0m     \u001b[39mraise\u001b[39;00m \u001b[39mImportError\u001b[39;00m(\n\u001b[1;32m     34\u001b[0m         \u001b[39m\"\u001b[39m\u001b[39mCould not import duckduckgo-search python package. \u001b[39m\u001b[39m\"\u001b[39m\n\u001b[1;32m     35\u001b[0m         \u001b[39m\"\u001b[39m\u001b[39mPlease install it with `pip install duckduckgo-search`.\u001b[39m\u001b[39m\"\u001b[39m\n\u001b[1;32m     36\u001b[0m     )\n\u001b[1;32m     37\u001b[0m \u001b[39mreturn\u001b[39;00m values\n",
      "\u001b[0;31mImportError\u001b[0m: Could not import duckduckgo-search python package. Please install it with `pip install duckduckgo-search`."
     ]
    }
   ],
   "source": [
    "from langchain.tools import DuckDuckGoSearchRun\n",
    "search=DuckDuckGoSearchRun()\n",
    "\n",
    "search(\"Stock news India\")"
   ]
  },
  {
   "cell_type": "code",
   "execution_count": 23,
   "metadata": {},
   "outputs": [],
   "source": [
    "# Making tool list\n",
    "\n",
    "tools=[\n",
    "    Tool(\n",
    "        name=\"get stock data\",\n",
    "        func=get_stock_price,\n",
    "        description=\"Use when you are asked to evaluate or analyze a stock. This will output historic share price data. You should input the the stock ticker to it \"\n",
    "    ),\n",
    "    # Tool(\n",
    "    #     # name=\"DuckDuckGo Search\",\n",
    "    #     # func=search.run,\n",
    "    #     # description=\"Use only when you need to get NSE/BSE stock ticker from internet, you can also get recent stock related news. Dont use it for any other analysis or task\"\n",
    "    # ),\n",
    "    Tool(\n",
    "        name=\"get recent news\",\n",
    "        func=get_recent_stock_news,\n",
    "        description=\"Use this to fetch recent news about stocks\"\n",
    "    ),\n",
    "\n",
    "    Tool(\n",
    "        name=\"get financial statements\",\n",
    "        func=get_financial_statements,\n",
    "        description=\"Use this to get financial statement of the company. With the help of this data companys historic performance can be evaluaated. You should input stock ticker to it\"\n",
    "    ) \n",
    "\n",
    "\n",
    "]"
   ]
  },
  {
   "cell_type": "markdown",
   "metadata": {},
   "source": [
    "#### Approach1- React Agent"
   ]
  },
  {
   "cell_type": "code",
   "execution_count": 24,
   "metadata": {},
   "outputs": [],
   "source": [
    "from langchain.agents import initialize_agent \n",
    "\n",
    "zero_shot_agent=initialize_agent(\n",
    "    llm=llm,\n",
    "    agent=\"zero-shot-react-description\",\n",
    "    tools=tools,\n",
    "    verbose=True,\n",
    "    max_iteration=4,\n",
    "    return_intermediate_steps=True,\n",
    "    handle_parsing_errors=True\n",
    ")"
   ]
  },
  {
   "cell_type": "code",
   "execution_count": 25,
   "metadata": {},
   "outputs": [
    {
     "name": "stdout",
     "output_type": "stream",
     "text": [
      "Answer the following questions as best you can. You have access to the following tools:\n",
      "\n",
      "get stock data: Use when you are asked to evaluate or analyze a stock. This will output historic share price data. You should input the the stock ticker to it \n",
      "get recent news: Use this to fetch recent news about stocks\n",
      "get financial statements: Use this to get financial statement of the company. With the help of this data companys historic performance can be evaluaated. You should input stock ticker to it\n",
      "\n",
      "Use the following format:\n",
      "\n",
      "Question: the input question you must answer\n",
      "Thought: you should always think about what to do\n",
      "Action: the action to take, should be one of [get stock data, get recent news, get financial statements]\n",
      "Action Input: the input to the action\n",
      "Observation: the result of the action\n",
      "... (this Thought/Action/Action Input/Observation can repeat N times)\n",
      "Thought: I now know the final answer\n",
      "Final Answer: the final answer to the original input question\n",
      "\n",
      "Begin!\n",
      "\n",
      "Question: {input}\n",
      "Thought:{agent_scratchpad}\n"
     ]
    }
   ],
   "source": [
    "print(zero_shot_agent.agent.llm_chain.prompt.template) "
   ]
  },
  {
   "cell_type": "code",
   "execution_count": 18,
   "metadata": {},
   "outputs": [],
   "source": [
    "#Adding predefine evaluation steps in the agent Prompt\n",
    "\n",
    "new_prompt=\"\"\"You are a financial advisor. Give stock recommendations for given query.\n",
    "Everytime first you should identify the company name and get the stock ticker symbole for indian stock.\n",
    "Answer the following questions as best you can. You have access to the following tools:\n",
    "\n",
    "get stock data: Use when you are asked to evaluate or analyze a stock. This will output historic share price data. You should input the the stock ticker to it \n",
    "get recent news: Use this to fetch recent news about stocks\n",
    "get financial statements: Use this to get financial statement of the company. With the help of this data companys historic performance can be evaluaated. You should input stock ticker to it\n",
    "\n",
    "steps- \n",
    "Note- if you fail in satisfying any of the step below, Just move to next one\n",
    "1) Get the company name and search for the \"company name + NSE/BSE stock ticker\" on internet. Dont hallucinate extract stock ticker as it is from the text. Output- stock ticker\n",
    "2) Use \"get stock data\" tool to gather stock info. Output- Stock data\n",
    "3) Get company's historic financial data using \"get financial statements\". Output- Financial statement\n",
    "4) Analyze the stock based on gathered data and give detail analysis for investment choice. provide numbers and reasons to justify your answer. Output- Detailed stock Analysis\n",
    "\n",
    "Use the following format:\n",
    "\n",
    "Question: the input question you must answer\n",
    "Thought: you should always think about what to do, Also try to follow steps mentioned above\n",
    "Action Input: the input to the action\n",
    "Observation: the result of the action\n",
    "... (this Thought/Action/Action Input/Observation can repeat N times)\n",
    "Thought: I now know the final answer\n",
    "Final Answer: the final answer to the original input question\n",
    "Begin!\n",
    "\n",
    "Question: {input}\n",
    "Thought:{agent_scratchpad}\"\"\""
   ]
  },
  {
   "cell_type": "code",
   "execution_count": 19,
   "metadata": {},
   "outputs": [],
   "source": [
    "#Setting up new prompt\n",
    "zero_shot_agent.agent.llm_chain.prompt.template=new_prompt"
   ]
  },
  {
   "cell_type": "code",
   "execution_count": 20,
   "metadata": {},
   "outputs": [
    {
     "name": "stdout",
     "output_type": "stream",
     "text": [
      "\n",
      "\n",
      "\u001b[1m> Entering new AgentExecutor chain...\u001b[0m\n",
      "\u001b[32;1m\u001b[1;3mI need to find the stock ticker symbol for Bajaj Finance and gather stock data and financial statements to analyze its performance.\n",
      "Action Input: Search for \"Bajaj Finance NSE stock ticker\" on the internet\u001b[0m\n",
      "Observation: Invalid Format: Missing 'Action:' after 'Thought:\n",
      "Thought:\u001b[32;1m\u001b[1;3mAction: Search for \"Bajaj Finance NSE stock ticker\" on the internet\n",
      "Action Input: Bajaj Finance NSE stock ticker\u001b[0m\n",
      "Observation: Search for \"Bajaj Finance NSE stock ticker\" on the internet is not a valid tool, try one of [get stock data, get recent news, get financial statements].\n",
      "Thought:\u001b[32;1m\u001b[1;3mAction: Use \"get stock data\" tool to gather stock info\n",
      "Action Input: Bajaj Finance stock ticker\u001b[0m\n",
      "Observation: Use \"get stock data\" tool to gather stock info is not a valid tool, try one of [get stock data, get recent news, get financial statements].\n",
      "Thought:\u001b[32;1m\u001b[1;3mAction: Use \"get stock data\" tool to gather stock info\n",
      "Action Input: BAJFINANCE.NS\u001b[0m\n",
      "Observation: Use \"get stock data\" tool to gather stock info is not a valid tool, try one of [get stock data, get recent news, get financial statements].\n",
      "Thought:\u001b[32;1m\u001b[1;3mAction: Use \"get stock data\" tool to gather stock info\n",
      "Action Input: BAJFINANCE.NS\u001b[0m\n",
      "Observation: Use \"get stock data\" tool to gather stock info is not a valid tool, try one of [get stock data, get recent news, get financial statements].\n",
      "Thought:\u001b[32;1m\u001b[1;3mAction: Use \"get financial statements\" tool to get company's historic financial data\n",
      "Action Input: BAJFINANCE.NS\u001b[0m\n",
      "Observation: Use \"get financial statements\" tool to get company's historic financial data is not a valid tool, try one of [get stock data, get recent news, get financial statements].\n",
      "Thought:\u001b[32;1m\u001b[1;3mAction: Use \"get financial statements\" tool to get company's historic financial data\n",
      "Action Input: BAJFINANCE.NS\u001b[0m\n",
      "Observation: Use \"get financial statements\" tool to get company's historic financial data is not a valid tool, try one of [get stock data, get recent news, get financial statements].\n",
      "Thought:\u001b[32;1m\u001b[1;3mAction: Use \"get financial statements\" tool to get company's historic financial data\n",
      "Action Input: BAJFINANCE.NS\u001b[0m\n",
      "Observation: Use \"get financial statements\" tool to get company's historic financial data is not a valid tool, try one of [get stock data, get recent news, get financial statements].\n",
      "Thought:\u001b[32;1m\u001b[1;3mAction: Use \"get financial statements\" tool to get company's historic financial data\n",
      "Action Input: BAJFINANCE.NS\u001b[0m\n",
      "Observation: Use \"get financial statements\" tool to get company's historic financial data is not a valid tool, try one of [get stock data, get recent news, get financial statements].\n",
      "Thought:"
     ]
    },
    {
     "ename": "KeyboardInterrupt",
     "evalue": "",
     "output_type": "error",
     "traceback": [
      "\u001b[0;31m---------------------------------------------------------------------------\u001b[0m",
      "\u001b[0;31mKeyboardInterrupt\u001b[0m                         Traceback (most recent call last)",
      "Cell \u001b[0;32mIn[20], line 1\u001b[0m\n\u001b[0;32m----> 1\u001b[0m zero_shot_agent(\u001b[39m\"\u001b[39;49m\u001b[39mIs Bajaj Finance a good investment choice right now?\u001b[39;49m\u001b[39m\"\u001b[39;49m)\n",
      "File \u001b[0;32m~/Desktop/Data Science/Projects/Stock_Analyzer_using_LLMs/stock_llm/lib/python3.9/site-packages/langchain/chains/base.py:310\u001b[0m, in \u001b[0;36mChain.__call__\u001b[0;34m(self, inputs, return_only_outputs, callbacks, tags, metadata, run_name, include_run_info)\u001b[0m\n\u001b[1;32m    308\u001b[0m \u001b[39mexcept\u001b[39;00m \u001b[39mBaseException\u001b[39;00m \u001b[39mas\u001b[39;00m e:\n\u001b[1;32m    309\u001b[0m     run_manager\u001b[39m.\u001b[39mon_chain_error(e)\n\u001b[0;32m--> 310\u001b[0m     \u001b[39mraise\u001b[39;00m e\n\u001b[1;32m    311\u001b[0m run_manager\u001b[39m.\u001b[39mon_chain_end(outputs)\n\u001b[1;32m    312\u001b[0m final_outputs: Dict[\u001b[39mstr\u001b[39m, Any] \u001b[39m=\u001b[39m \u001b[39mself\u001b[39m\u001b[39m.\u001b[39mprep_outputs(\n\u001b[1;32m    313\u001b[0m     inputs, outputs, return_only_outputs\n\u001b[1;32m    314\u001b[0m )\n",
      "File \u001b[0;32m~/Desktop/Data Science/Projects/Stock_Analyzer_using_LLMs/stock_llm/lib/python3.9/site-packages/langchain/chains/base.py:304\u001b[0m, in \u001b[0;36mChain.__call__\u001b[0;34m(self, inputs, return_only_outputs, callbacks, tags, metadata, run_name, include_run_info)\u001b[0m\n\u001b[1;32m    297\u001b[0m run_manager \u001b[39m=\u001b[39m callback_manager\u001b[39m.\u001b[39mon_chain_start(\n\u001b[1;32m    298\u001b[0m     dumpd(\u001b[39mself\u001b[39m),\n\u001b[1;32m    299\u001b[0m     inputs,\n\u001b[1;32m    300\u001b[0m     name\u001b[39m=\u001b[39mrun_name,\n\u001b[1;32m    301\u001b[0m )\n\u001b[1;32m    302\u001b[0m \u001b[39mtry\u001b[39;00m:\n\u001b[1;32m    303\u001b[0m     outputs \u001b[39m=\u001b[39m (\n\u001b[0;32m--> 304\u001b[0m         \u001b[39mself\u001b[39;49m\u001b[39m.\u001b[39;49m_call(inputs, run_manager\u001b[39m=\u001b[39;49mrun_manager)\n\u001b[1;32m    305\u001b[0m         \u001b[39mif\u001b[39;00m new_arg_supported\n\u001b[1;32m    306\u001b[0m         \u001b[39melse\u001b[39;00m \u001b[39mself\u001b[39m\u001b[39m.\u001b[39m_call(inputs)\n\u001b[1;32m    307\u001b[0m     )\n\u001b[1;32m    308\u001b[0m \u001b[39mexcept\u001b[39;00m \u001b[39mBaseException\u001b[39;00m \u001b[39mas\u001b[39;00m e:\n\u001b[1;32m    309\u001b[0m     run_manager\u001b[39m.\u001b[39mon_chain_error(e)\n",
      "File \u001b[0;32m~/Desktop/Data Science/Projects/Stock_Analyzer_using_LLMs/stock_llm/lib/python3.9/site-packages/langchain/agents/agent.py:1245\u001b[0m, in \u001b[0;36mAgentExecutor._call\u001b[0;34m(self, inputs, run_manager)\u001b[0m\n\u001b[1;32m   1243\u001b[0m \u001b[39m# We now enter the agent loop (until it returns something).\u001b[39;00m\n\u001b[1;32m   1244\u001b[0m \u001b[39mwhile\u001b[39;00m \u001b[39mself\u001b[39m\u001b[39m.\u001b[39m_should_continue(iterations, time_elapsed):\n\u001b[0;32m-> 1245\u001b[0m     next_step_output \u001b[39m=\u001b[39m \u001b[39mself\u001b[39;49m\u001b[39m.\u001b[39;49m_take_next_step(\n\u001b[1;32m   1246\u001b[0m         name_to_tool_map,\n\u001b[1;32m   1247\u001b[0m         color_mapping,\n\u001b[1;32m   1248\u001b[0m         inputs,\n\u001b[1;32m   1249\u001b[0m         intermediate_steps,\n\u001b[1;32m   1250\u001b[0m         run_manager\u001b[39m=\u001b[39;49mrun_manager,\n\u001b[1;32m   1251\u001b[0m     )\n\u001b[1;32m   1252\u001b[0m     \u001b[39mif\u001b[39;00m \u001b[39misinstance\u001b[39m(next_step_output, AgentFinish):\n\u001b[1;32m   1253\u001b[0m         \u001b[39mreturn\u001b[39;00m \u001b[39mself\u001b[39m\u001b[39m.\u001b[39m_return(\n\u001b[1;32m   1254\u001b[0m             next_step_output, intermediate_steps, run_manager\u001b[39m=\u001b[39mrun_manager\n\u001b[1;32m   1255\u001b[0m         )\n",
      "File \u001b[0;32m~/Desktop/Data Science/Projects/Stock_Analyzer_using_LLMs/stock_llm/lib/python3.9/site-packages/langchain/agents/agent.py:1032\u001b[0m, in \u001b[0;36mAgentExecutor._take_next_step\u001b[0;34m(self, name_to_tool_map, color_mapping, inputs, intermediate_steps, run_manager)\u001b[0m\n\u001b[1;32m   1029\u001b[0m     intermediate_steps \u001b[39m=\u001b[39m \u001b[39mself\u001b[39m\u001b[39m.\u001b[39m_prepare_intermediate_steps(intermediate_steps)\n\u001b[1;32m   1031\u001b[0m     \u001b[39m# Call the LLM to see what to do.\u001b[39;00m\n\u001b[0;32m-> 1032\u001b[0m     output \u001b[39m=\u001b[39m \u001b[39mself\u001b[39;49m\u001b[39m.\u001b[39;49magent\u001b[39m.\u001b[39;49mplan(\n\u001b[1;32m   1033\u001b[0m         intermediate_steps,\n\u001b[1;32m   1034\u001b[0m         callbacks\u001b[39m=\u001b[39;49mrun_manager\u001b[39m.\u001b[39;49mget_child() \u001b[39mif\u001b[39;49;00m run_manager \u001b[39melse\u001b[39;49;00m \u001b[39mNone\u001b[39;49;00m,\n\u001b[1;32m   1035\u001b[0m         \u001b[39m*\u001b[39;49m\u001b[39m*\u001b[39;49minputs,\n\u001b[1;32m   1036\u001b[0m     )\n\u001b[1;32m   1037\u001b[0m \u001b[39mexcept\u001b[39;00m OutputParserException \u001b[39mas\u001b[39;00m e:\n\u001b[1;32m   1038\u001b[0m     \u001b[39mif\u001b[39;00m \u001b[39misinstance\u001b[39m(\u001b[39mself\u001b[39m\u001b[39m.\u001b[39mhandle_parsing_errors, \u001b[39mbool\u001b[39m):\n",
      "File \u001b[0;32m~/Desktop/Data Science/Projects/Stock_Analyzer_using_LLMs/stock_llm/lib/python3.9/site-packages/langchain/agents/agent.py:635\u001b[0m, in \u001b[0;36mAgent.plan\u001b[0;34m(self, intermediate_steps, callbacks, **kwargs)\u001b[0m\n\u001b[1;32m    623\u001b[0m \u001b[39m\u001b[39m\u001b[39m\"\"\"Given input, decided what to do.\u001b[39;00m\n\u001b[1;32m    624\u001b[0m \n\u001b[1;32m    625\u001b[0m \u001b[39mArgs:\u001b[39;00m\n\u001b[0;32m   (...)\u001b[0m\n\u001b[1;32m    632\u001b[0m \u001b[39m    Action specifying what tool to use.\u001b[39;00m\n\u001b[1;32m    633\u001b[0m \u001b[39m\"\"\"\u001b[39;00m\n\u001b[1;32m    634\u001b[0m full_inputs \u001b[39m=\u001b[39m \u001b[39mself\u001b[39m\u001b[39m.\u001b[39mget_full_inputs(intermediate_steps, \u001b[39m*\u001b[39m\u001b[39m*\u001b[39mkwargs)\n\u001b[0;32m--> 635\u001b[0m full_output \u001b[39m=\u001b[39m \u001b[39mself\u001b[39;49m\u001b[39m.\u001b[39;49mllm_chain\u001b[39m.\u001b[39;49mpredict(callbacks\u001b[39m=\u001b[39;49mcallbacks, \u001b[39m*\u001b[39;49m\u001b[39m*\u001b[39;49mfull_inputs)\n\u001b[1;32m    636\u001b[0m \u001b[39mreturn\u001b[39;00m \u001b[39mself\u001b[39m\u001b[39m.\u001b[39moutput_parser\u001b[39m.\u001b[39mparse(full_output)\n",
      "File \u001b[0;32m~/Desktop/Data Science/Projects/Stock_Analyzer_using_LLMs/stock_llm/lib/python3.9/site-packages/langchain/chains/llm.py:298\u001b[0m, in \u001b[0;36mLLMChain.predict\u001b[0;34m(self, callbacks, **kwargs)\u001b[0m\n\u001b[1;32m    283\u001b[0m \u001b[39mdef\u001b[39;00m \u001b[39mpredict\u001b[39m(\u001b[39mself\u001b[39m, callbacks: Callbacks \u001b[39m=\u001b[39m \u001b[39mNone\u001b[39;00m, \u001b[39m*\u001b[39m\u001b[39m*\u001b[39mkwargs: Any) \u001b[39m-\u001b[39m\u001b[39m>\u001b[39m \u001b[39mstr\u001b[39m:\n\u001b[1;32m    284\u001b[0m \u001b[39m    \u001b[39m\u001b[39m\"\"\"Format prompt with kwargs and pass to LLM.\u001b[39;00m\n\u001b[1;32m    285\u001b[0m \n\u001b[1;32m    286\u001b[0m \u001b[39m    Args:\u001b[39;00m\n\u001b[0;32m   (...)\u001b[0m\n\u001b[1;32m    296\u001b[0m \u001b[39m            completion = llm.predict(adjective=\"funny\")\u001b[39;00m\n\u001b[1;32m    297\u001b[0m \u001b[39m    \"\"\"\u001b[39;00m\n\u001b[0;32m--> 298\u001b[0m     \u001b[39mreturn\u001b[39;00m \u001b[39mself\u001b[39;49m(kwargs, callbacks\u001b[39m=\u001b[39;49mcallbacks)[\u001b[39mself\u001b[39m\u001b[39m.\u001b[39moutput_key]\n",
      "File \u001b[0;32m~/Desktop/Data Science/Projects/Stock_Analyzer_using_LLMs/stock_llm/lib/python3.9/site-packages/langchain/chains/base.py:310\u001b[0m, in \u001b[0;36mChain.__call__\u001b[0;34m(self, inputs, return_only_outputs, callbacks, tags, metadata, run_name, include_run_info)\u001b[0m\n\u001b[1;32m    308\u001b[0m \u001b[39mexcept\u001b[39;00m \u001b[39mBaseException\u001b[39;00m \u001b[39mas\u001b[39;00m e:\n\u001b[1;32m    309\u001b[0m     run_manager\u001b[39m.\u001b[39mon_chain_error(e)\n\u001b[0;32m--> 310\u001b[0m     \u001b[39mraise\u001b[39;00m e\n\u001b[1;32m    311\u001b[0m run_manager\u001b[39m.\u001b[39mon_chain_end(outputs)\n\u001b[1;32m    312\u001b[0m final_outputs: Dict[\u001b[39mstr\u001b[39m, Any] \u001b[39m=\u001b[39m \u001b[39mself\u001b[39m\u001b[39m.\u001b[39mprep_outputs(\n\u001b[1;32m    313\u001b[0m     inputs, outputs, return_only_outputs\n\u001b[1;32m    314\u001b[0m )\n",
      "File \u001b[0;32m~/Desktop/Data Science/Projects/Stock_Analyzer_using_LLMs/stock_llm/lib/python3.9/site-packages/langchain/chains/base.py:304\u001b[0m, in \u001b[0;36mChain.__call__\u001b[0;34m(self, inputs, return_only_outputs, callbacks, tags, metadata, run_name, include_run_info)\u001b[0m\n\u001b[1;32m    297\u001b[0m run_manager \u001b[39m=\u001b[39m callback_manager\u001b[39m.\u001b[39mon_chain_start(\n\u001b[1;32m    298\u001b[0m     dumpd(\u001b[39mself\u001b[39m),\n\u001b[1;32m    299\u001b[0m     inputs,\n\u001b[1;32m    300\u001b[0m     name\u001b[39m=\u001b[39mrun_name,\n\u001b[1;32m    301\u001b[0m )\n\u001b[1;32m    302\u001b[0m \u001b[39mtry\u001b[39;00m:\n\u001b[1;32m    303\u001b[0m     outputs \u001b[39m=\u001b[39m (\n\u001b[0;32m--> 304\u001b[0m         \u001b[39mself\u001b[39;49m\u001b[39m.\u001b[39;49m_call(inputs, run_manager\u001b[39m=\u001b[39;49mrun_manager)\n\u001b[1;32m    305\u001b[0m         \u001b[39mif\u001b[39;00m new_arg_supported\n\u001b[1;32m    306\u001b[0m         \u001b[39melse\u001b[39;00m \u001b[39mself\u001b[39m\u001b[39m.\u001b[39m_call(inputs)\n\u001b[1;32m    307\u001b[0m     )\n\u001b[1;32m    308\u001b[0m \u001b[39mexcept\u001b[39;00m \u001b[39mBaseException\u001b[39;00m \u001b[39mas\u001b[39;00m e:\n\u001b[1;32m    309\u001b[0m     run_manager\u001b[39m.\u001b[39mon_chain_error(e)\n",
      "File \u001b[0;32m~/Desktop/Data Science/Projects/Stock_Analyzer_using_LLMs/stock_llm/lib/python3.9/site-packages/langchain/chains/llm.py:108\u001b[0m, in \u001b[0;36mLLMChain._call\u001b[0;34m(self, inputs, run_manager)\u001b[0m\n\u001b[1;32m    103\u001b[0m \u001b[39mdef\u001b[39;00m \u001b[39m_call\u001b[39m(\n\u001b[1;32m    104\u001b[0m     \u001b[39mself\u001b[39m,\n\u001b[1;32m    105\u001b[0m     inputs: Dict[\u001b[39mstr\u001b[39m, Any],\n\u001b[1;32m    106\u001b[0m     run_manager: Optional[CallbackManagerForChainRun] \u001b[39m=\u001b[39m \u001b[39mNone\u001b[39;00m,\n\u001b[1;32m    107\u001b[0m ) \u001b[39m-\u001b[39m\u001b[39m>\u001b[39m Dict[\u001b[39mstr\u001b[39m, \u001b[39mstr\u001b[39m]:\n\u001b[0;32m--> 108\u001b[0m     response \u001b[39m=\u001b[39m \u001b[39mself\u001b[39;49m\u001b[39m.\u001b[39;49mgenerate([inputs], run_manager\u001b[39m=\u001b[39;49mrun_manager)\n\u001b[1;32m    109\u001b[0m     \u001b[39mreturn\u001b[39;00m \u001b[39mself\u001b[39m\u001b[39m.\u001b[39mcreate_outputs(response)[\u001b[39m0\u001b[39m]\n",
      "File \u001b[0;32m~/Desktop/Data Science/Projects/Stock_Analyzer_using_LLMs/stock_llm/lib/python3.9/site-packages/langchain/chains/llm.py:120\u001b[0m, in \u001b[0;36mLLMChain.generate\u001b[0;34m(self, input_list, run_manager)\u001b[0m\n\u001b[1;32m    118\u001b[0m callbacks \u001b[39m=\u001b[39m run_manager\u001b[39m.\u001b[39mget_child() \u001b[39mif\u001b[39;00m run_manager \u001b[39melse\u001b[39;00m \u001b[39mNone\u001b[39;00m\n\u001b[1;32m    119\u001b[0m \u001b[39mif\u001b[39;00m \u001b[39misinstance\u001b[39m(\u001b[39mself\u001b[39m\u001b[39m.\u001b[39mllm, BaseLanguageModel):\n\u001b[0;32m--> 120\u001b[0m     \u001b[39mreturn\u001b[39;00m \u001b[39mself\u001b[39;49m\u001b[39m.\u001b[39;49mllm\u001b[39m.\u001b[39;49mgenerate_prompt(\n\u001b[1;32m    121\u001b[0m         prompts,\n\u001b[1;32m    122\u001b[0m         stop,\n\u001b[1;32m    123\u001b[0m         callbacks\u001b[39m=\u001b[39;49mcallbacks,\n\u001b[1;32m    124\u001b[0m         \u001b[39m*\u001b[39;49m\u001b[39m*\u001b[39;49m\u001b[39mself\u001b[39;49m\u001b[39m.\u001b[39;49mllm_kwargs,\n\u001b[1;32m    125\u001b[0m     )\n\u001b[1;32m    126\u001b[0m \u001b[39melse\u001b[39;00m:\n\u001b[1;32m    127\u001b[0m     results \u001b[39m=\u001b[39m \u001b[39mself\u001b[39m\u001b[39m.\u001b[39mllm\u001b[39m.\u001b[39mbind(stop\u001b[39m=\u001b[39mstop, \u001b[39m*\u001b[39m\u001b[39m*\u001b[39m\u001b[39mself\u001b[39m\u001b[39m.\u001b[39mllm_kwargs)\u001b[39m.\u001b[39mbatch(\n\u001b[1;32m    128\u001b[0m         cast(List, prompts), {\u001b[39m\"\u001b[39m\u001b[39mcallbacks\u001b[39m\u001b[39m\"\u001b[39m: callbacks}\n\u001b[1;32m    129\u001b[0m     )\n",
      "File \u001b[0;32m~/Desktop/Data Science/Projects/Stock_Analyzer_using_LLMs/stock_llm/lib/python3.9/site-packages/langchain/llms/base.py:507\u001b[0m, in \u001b[0;36mBaseLLM.generate_prompt\u001b[0;34m(self, prompts, stop, callbacks, **kwargs)\u001b[0m\n\u001b[1;32m    499\u001b[0m \u001b[39mdef\u001b[39;00m \u001b[39mgenerate_prompt\u001b[39m(\n\u001b[1;32m    500\u001b[0m     \u001b[39mself\u001b[39m,\n\u001b[1;32m    501\u001b[0m     prompts: List[PromptValue],\n\u001b[0;32m   (...)\u001b[0m\n\u001b[1;32m    504\u001b[0m     \u001b[39m*\u001b[39m\u001b[39m*\u001b[39mkwargs: Any,\n\u001b[1;32m    505\u001b[0m ) \u001b[39m-\u001b[39m\u001b[39m>\u001b[39m LLMResult:\n\u001b[1;32m    506\u001b[0m     prompt_strings \u001b[39m=\u001b[39m [p\u001b[39m.\u001b[39mto_string() \u001b[39mfor\u001b[39;00m p \u001b[39min\u001b[39;00m prompts]\n\u001b[0;32m--> 507\u001b[0m     \u001b[39mreturn\u001b[39;00m \u001b[39mself\u001b[39;49m\u001b[39m.\u001b[39;49mgenerate(prompt_strings, stop\u001b[39m=\u001b[39;49mstop, callbacks\u001b[39m=\u001b[39;49mcallbacks, \u001b[39m*\u001b[39;49m\u001b[39m*\u001b[39;49mkwargs)\n",
      "File \u001b[0;32m~/Desktop/Data Science/Projects/Stock_Analyzer_using_LLMs/stock_llm/lib/python3.9/site-packages/langchain/llms/base.py:656\u001b[0m, in \u001b[0;36mBaseLLM.generate\u001b[0;34m(self, prompts, stop, callbacks, tags, metadata, run_name, **kwargs)\u001b[0m\n\u001b[1;32m    641\u001b[0m         \u001b[39mraise\u001b[39;00m \u001b[39mValueError\u001b[39;00m(\n\u001b[1;32m    642\u001b[0m             \u001b[39m\"\u001b[39m\u001b[39mAsked to cache, but no cache found at `langchain.cache`.\u001b[39m\u001b[39m\"\u001b[39m\n\u001b[1;32m    643\u001b[0m         )\n\u001b[1;32m    644\u001b[0m     run_managers \u001b[39m=\u001b[39m [\n\u001b[1;32m    645\u001b[0m         callback_manager\u001b[39m.\u001b[39mon_llm_start(\n\u001b[1;32m    646\u001b[0m             dumpd(\u001b[39mself\u001b[39m),\n\u001b[0;32m   (...)\u001b[0m\n\u001b[1;32m    654\u001b[0m         )\n\u001b[1;32m    655\u001b[0m     ]\n\u001b[0;32m--> 656\u001b[0m     output \u001b[39m=\u001b[39m \u001b[39mself\u001b[39;49m\u001b[39m.\u001b[39;49m_generate_helper(\n\u001b[1;32m    657\u001b[0m         prompts, stop, run_managers, \u001b[39mbool\u001b[39;49m(new_arg_supported), \u001b[39m*\u001b[39;49m\u001b[39m*\u001b[39;49mkwargs\n\u001b[1;32m    658\u001b[0m     )\n\u001b[1;32m    659\u001b[0m     \u001b[39mreturn\u001b[39;00m output\n\u001b[1;32m    660\u001b[0m \u001b[39mif\u001b[39;00m \u001b[39mlen\u001b[39m(missing_prompts) \u001b[39m>\u001b[39m \u001b[39m0\u001b[39m:\n",
      "File \u001b[0;32m~/Desktop/Data Science/Projects/Stock_Analyzer_using_LLMs/stock_llm/lib/python3.9/site-packages/langchain/llms/base.py:544\u001b[0m, in \u001b[0;36mBaseLLM._generate_helper\u001b[0;34m(self, prompts, stop, run_managers, new_arg_supported, **kwargs)\u001b[0m\n\u001b[1;32m    542\u001b[0m     \u001b[39mfor\u001b[39;00m run_manager \u001b[39min\u001b[39;00m run_managers:\n\u001b[1;32m    543\u001b[0m         run_manager\u001b[39m.\u001b[39mon_llm_error(e)\n\u001b[0;32m--> 544\u001b[0m     \u001b[39mraise\u001b[39;00m e\n\u001b[1;32m    545\u001b[0m flattened_outputs \u001b[39m=\u001b[39m output\u001b[39m.\u001b[39mflatten()\n\u001b[1;32m    546\u001b[0m \u001b[39mfor\u001b[39;00m manager, flattened_output \u001b[39min\u001b[39;00m \u001b[39mzip\u001b[39m(run_managers, flattened_outputs):\n",
      "File \u001b[0;32m~/Desktop/Data Science/Projects/Stock_Analyzer_using_LLMs/stock_llm/lib/python3.9/site-packages/langchain/llms/base.py:531\u001b[0m, in \u001b[0;36mBaseLLM._generate_helper\u001b[0;34m(self, prompts, stop, run_managers, new_arg_supported, **kwargs)\u001b[0m\n\u001b[1;32m    521\u001b[0m \u001b[39mdef\u001b[39;00m \u001b[39m_generate_helper\u001b[39m(\n\u001b[1;32m    522\u001b[0m     \u001b[39mself\u001b[39m,\n\u001b[1;32m    523\u001b[0m     prompts: List[\u001b[39mstr\u001b[39m],\n\u001b[0;32m   (...)\u001b[0m\n\u001b[1;32m    527\u001b[0m     \u001b[39m*\u001b[39m\u001b[39m*\u001b[39mkwargs: Any,\n\u001b[1;32m    528\u001b[0m ) \u001b[39m-\u001b[39m\u001b[39m>\u001b[39m LLMResult:\n\u001b[1;32m    529\u001b[0m     \u001b[39mtry\u001b[39;00m:\n\u001b[1;32m    530\u001b[0m         output \u001b[39m=\u001b[39m (\n\u001b[0;32m--> 531\u001b[0m             \u001b[39mself\u001b[39;49m\u001b[39m.\u001b[39;49m_generate(\n\u001b[1;32m    532\u001b[0m                 prompts,\n\u001b[1;32m    533\u001b[0m                 stop\u001b[39m=\u001b[39;49mstop,\n\u001b[1;32m    534\u001b[0m                 \u001b[39m# TODO: support multiple run managers\u001b[39;49;00m\n\u001b[1;32m    535\u001b[0m                 run_manager\u001b[39m=\u001b[39;49mrun_managers[\u001b[39m0\u001b[39;49m] \u001b[39mif\u001b[39;49;00m run_managers \u001b[39melse\u001b[39;49;00m \u001b[39mNone\u001b[39;49;00m,\n\u001b[1;32m    536\u001b[0m                 \u001b[39m*\u001b[39;49m\u001b[39m*\u001b[39;49mkwargs,\n\u001b[1;32m    537\u001b[0m             )\n\u001b[1;32m    538\u001b[0m             \u001b[39mif\u001b[39;00m new_arg_supported\n\u001b[1;32m    539\u001b[0m             \u001b[39melse\u001b[39;00m \u001b[39mself\u001b[39m\u001b[39m.\u001b[39m_generate(prompts, stop\u001b[39m=\u001b[39mstop)\n\u001b[1;32m    540\u001b[0m         )\n\u001b[1;32m    541\u001b[0m     \u001b[39mexcept\u001b[39;00m \u001b[39mBaseException\u001b[39;00m \u001b[39mas\u001b[39;00m e:\n\u001b[1;32m    542\u001b[0m         \u001b[39mfor\u001b[39;00m run_manager \u001b[39min\u001b[39;00m run_managers:\n",
      "File \u001b[0;32m~/Desktop/Data Science/Projects/Stock_Analyzer_using_LLMs/stock_llm/lib/python3.9/site-packages/langchain/llms/openai.py:1127\u001b[0m, in \u001b[0;36mOpenAIChat._generate\u001b[0;34m(self, prompts, stop, run_manager, **kwargs)\u001b[0m\n\u001b[1;32m   1125\u001b[0m messages, params \u001b[39m=\u001b[39m \u001b[39mself\u001b[39m\u001b[39m.\u001b[39m_get_chat_params(prompts, stop)\n\u001b[1;32m   1126\u001b[0m params \u001b[39m=\u001b[39m {\u001b[39m*\u001b[39m\u001b[39m*\u001b[39mparams, \u001b[39m*\u001b[39m\u001b[39m*\u001b[39mkwargs}\n\u001b[0;32m-> 1127\u001b[0m full_response \u001b[39m=\u001b[39m completion_with_retry(\n\u001b[1;32m   1128\u001b[0m     \u001b[39mself\u001b[39;49m, messages\u001b[39m=\u001b[39;49mmessages, run_manager\u001b[39m=\u001b[39;49mrun_manager, \u001b[39m*\u001b[39;49m\u001b[39m*\u001b[39;49mparams\n\u001b[1;32m   1129\u001b[0m )\n\u001b[1;32m   1130\u001b[0m \u001b[39mif\u001b[39;00m \u001b[39mnot\u001b[39;00m \u001b[39misinstance\u001b[39m(full_response, \u001b[39mdict\u001b[39m):\n\u001b[1;32m   1131\u001b[0m     full_response \u001b[39m=\u001b[39m full_response\u001b[39m.\u001b[39mdict()\n",
      "File \u001b[0;32m~/Desktop/Data Science/Projects/Stock_Analyzer_using_LLMs/stock_llm/lib/python3.9/site-packages/langchain/llms/openai.py:122\u001b[0m, in \u001b[0;36mcompletion_with_retry\u001b[0;34m(llm, run_manager, **kwargs)\u001b[0m\n\u001b[1;32m    118\u001b[0m \u001b[39m@retry_decorator\u001b[39m\n\u001b[1;32m    119\u001b[0m \u001b[39mdef\u001b[39;00m \u001b[39m_completion_with_retry\u001b[39m(\u001b[39m*\u001b[39m\u001b[39m*\u001b[39mkwargs: Any) \u001b[39m-\u001b[39m\u001b[39m>\u001b[39m Any:\n\u001b[1;32m    120\u001b[0m     \u001b[39mreturn\u001b[39;00m llm\u001b[39m.\u001b[39mclient\u001b[39m.\u001b[39mcreate(\u001b[39m*\u001b[39m\u001b[39m*\u001b[39mkwargs)\n\u001b[0;32m--> 122\u001b[0m \u001b[39mreturn\u001b[39;00m _completion_with_retry(\u001b[39m*\u001b[39;49m\u001b[39m*\u001b[39;49mkwargs)\n",
      "File \u001b[0;32m~/Desktop/Data Science/Projects/Stock_Analyzer_using_LLMs/stock_llm/lib/python3.9/site-packages/tenacity/__init__.py:289\u001b[0m, in \u001b[0;36mBaseRetrying.wraps.<locals>.wrapped_f\u001b[0;34m(*args, **kw)\u001b[0m\n\u001b[1;32m    287\u001b[0m \u001b[39m@functools\u001b[39m\u001b[39m.\u001b[39mwraps(f)\n\u001b[1;32m    288\u001b[0m \u001b[39mdef\u001b[39;00m \u001b[39mwrapped_f\u001b[39m(\u001b[39m*\u001b[39margs: t\u001b[39m.\u001b[39mAny, \u001b[39m*\u001b[39m\u001b[39m*\u001b[39mkw: t\u001b[39m.\u001b[39mAny) \u001b[39m-\u001b[39m\u001b[39m>\u001b[39m t\u001b[39m.\u001b[39mAny:\n\u001b[0;32m--> 289\u001b[0m     \u001b[39mreturn\u001b[39;00m \u001b[39mself\u001b[39;49m(f, \u001b[39m*\u001b[39;49margs, \u001b[39m*\u001b[39;49m\u001b[39m*\u001b[39;49mkw)\n",
      "File \u001b[0;32m~/Desktop/Data Science/Projects/Stock_Analyzer_using_LLMs/stock_llm/lib/python3.9/site-packages/tenacity/__init__.py:379\u001b[0m, in \u001b[0;36mRetrying.__call__\u001b[0;34m(self, fn, *args, **kwargs)\u001b[0m\n\u001b[1;32m    377\u001b[0m retry_state \u001b[39m=\u001b[39m RetryCallState(retry_object\u001b[39m=\u001b[39m\u001b[39mself\u001b[39m, fn\u001b[39m=\u001b[39mfn, args\u001b[39m=\u001b[39margs, kwargs\u001b[39m=\u001b[39mkwargs)\n\u001b[1;32m    378\u001b[0m \u001b[39mwhile\u001b[39;00m \u001b[39mTrue\u001b[39;00m:\n\u001b[0;32m--> 379\u001b[0m     do \u001b[39m=\u001b[39m \u001b[39mself\u001b[39;49m\u001b[39m.\u001b[39;49miter(retry_state\u001b[39m=\u001b[39;49mretry_state)\n\u001b[1;32m    380\u001b[0m     \u001b[39mif\u001b[39;00m \u001b[39misinstance\u001b[39m(do, DoAttempt):\n\u001b[1;32m    381\u001b[0m         \u001b[39mtry\u001b[39;00m:\n",
      "File \u001b[0;32m~/Desktop/Data Science/Projects/Stock_Analyzer_using_LLMs/stock_llm/lib/python3.9/site-packages/tenacity/__init__.py:314\u001b[0m, in \u001b[0;36mBaseRetrying.iter\u001b[0;34m(self, retry_state)\u001b[0m\n\u001b[1;32m    312\u001b[0m is_explicit_retry \u001b[39m=\u001b[39m fut\u001b[39m.\u001b[39mfailed \u001b[39mand\u001b[39;00m \u001b[39misinstance\u001b[39m(fut\u001b[39m.\u001b[39mexception(), TryAgain)\n\u001b[1;32m    313\u001b[0m \u001b[39mif\u001b[39;00m \u001b[39mnot\u001b[39;00m (is_explicit_retry \u001b[39mor\u001b[39;00m \u001b[39mself\u001b[39m\u001b[39m.\u001b[39mretry(retry_state)):\n\u001b[0;32m--> 314\u001b[0m     \u001b[39mreturn\u001b[39;00m fut\u001b[39m.\u001b[39;49mresult()\n\u001b[1;32m    316\u001b[0m \u001b[39mif\u001b[39;00m \u001b[39mself\u001b[39m\u001b[39m.\u001b[39mafter \u001b[39mis\u001b[39;00m \u001b[39mnot\u001b[39;00m \u001b[39mNone\u001b[39;00m:\n\u001b[1;32m    317\u001b[0m     \u001b[39mself\u001b[39m\u001b[39m.\u001b[39mafter(retry_state)\n",
      "File \u001b[0;32m/Library/Frameworks/Python.framework/Versions/3.9/lib/python3.9/concurrent/futures/_base.py:439\u001b[0m, in \u001b[0;36mFuture.result\u001b[0;34m(self, timeout)\u001b[0m\n\u001b[1;32m    437\u001b[0m     \u001b[39mraise\u001b[39;00m CancelledError()\n\u001b[1;32m    438\u001b[0m \u001b[39melif\u001b[39;00m \u001b[39mself\u001b[39m\u001b[39m.\u001b[39m_state \u001b[39m==\u001b[39m FINISHED:\n\u001b[0;32m--> 439\u001b[0m     \u001b[39mreturn\u001b[39;00m \u001b[39mself\u001b[39;49m\u001b[39m.\u001b[39;49m__get_result()\n\u001b[1;32m    441\u001b[0m \u001b[39mself\u001b[39m\u001b[39m.\u001b[39m_condition\u001b[39m.\u001b[39mwait(timeout)\n\u001b[1;32m    443\u001b[0m \u001b[39mif\u001b[39;00m \u001b[39mself\u001b[39m\u001b[39m.\u001b[39m_state \u001b[39min\u001b[39;00m [CANCELLED, CANCELLED_AND_NOTIFIED]:\n",
      "File \u001b[0;32m/Library/Frameworks/Python.framework/Versions/3.9/lib/python3.9/concurrent/futures/_base.py:391\u001b[0m, in \u001b[0;36mFuture.__get_result\u001b[0;34m(self)\u001b[0m\n\u001b[1;32m    389\u001b[0m \u001b[39mif\u001b[39;00m \u001b[39mself\u001b[39m\u001b[39m.\u001b[39m_exception:\n\u001b[1;32m    390\u001b[0m     \u001b[39mtry\u001b[39;00m:\n\u001b[0;32m--> 391\u001b[0m         \u001b[39mraise\u001b[39;00m \u001b[39mself\u001b[39m\u001b[39m.\u001b[39m_exception\n\u001b[1;32m    392\u001b[0m     \u001b[39mfinally\u001b[39;00m:\n\u001b[1;32m    393\u001b[0m         \u001b[39m# Break a reference cycle with the exception in self._exception\u001b[39;00m\n\u001b[1;32m    394\u001b[0m         \u001b[39mself\u001b[39m \u001b[39m=\u001b[39m \u001b[39mNone\u001b[39;00m\n",
      "File \u001b[0;32m~/Desktop/Data Science/Projects/Stock_Analyzer_using_LLMs/stock_llm/lib/python3.9/site-packages/tenacity/__init__.py:382\u001b[0m, in \u001b[0;36mRetrying.__call__\u001b[0;34m(self, fn, *args, **kwargs)\u001b[0m\n\u001b[1;32m    380\u001b[0m \u001b[39mif\u001b[39;00m \u001b[39misinstance\u001b[39m(do, DoAttempt):\n\u001b[1;32m    381\u001b[0m     \u001b[39mtry\u001b[39;00m:\n\u001b[0;32m--> 382\u001b[0m         result \u001b[39m=\u001b[39m fn(\u001b[39m*\u001b[39;49margs, \u001b[39m*\u001b[39;49m\u001b[39m*\u001b[39;49mkwargs)\n\u001b[1;32m    383\u001b[0m     \u001b[39mexcept\u001b[39;00m \u001b[39mBaseException\u001b[39;00m:  \u001b[39m# noqa: B902\u001b[39;00m\n\u001b[1;32m    384\u001b[0m         retry_state\u001b[39m.\u001b[39mset_exception(sys\u001b[39m.\u001b[39mexc_info())  \u001b[39m# type: ignore[arg-type]\u001b[39;00m\n",
      "File \u001b[0;32m~/Desktop/Data Science/Projects/Stock_Analyzer_using_LLMs/stock_llm/lib/python3.9/site-packages/langchain/llms/openai.py:120\u001b[0m, in \u001b[0;36mcompletion_with_retry.<locals>._completion_with_retry\u001b[0;34m(**kwargs)\u001b[0m\n\u001b[1;32m    118\u001b[0m \u001b[39m@retry_decorator\u001b[39m\n\u001b[1;32m    119\u001b[0m \u001b[39mdef\u001b[39;00m \u001b[39m_completion_with_retry\u001b[39m(\u001b[39m*\u001b[39m\u001b[39m*\u001b[39mkwargs: Any) \u001b[39m-\u001b[39m\u001b[39m>\u001b[39m Any:\n\u001b[0;32m--> 120\u001b[0m     \u001b[39mreturn\u001b[39;00m llm\u001b[39m.\u001b[39;49mclient\u001b[39m.\u001b[39;49mcreate(\u001b[39m*\u001b[39;49m\u001b[39m*\u001b[39;49mkwargs)\n",
      "File \u001b[0;32m~/Desktop/Data Science/Projects/Stock_Analyzer_using_LLMs/stock_llm/lib/python3.9/site-packages/openai/api_resources/chat_completion.py:25\u001b[0m, in \u001b[0;36mChatCompletion.create\u001b[0;34m(cls, *args, **kwargs)\u001b[0m\n\u001b[1;32m     23\u001b[0m \u001b[39mwhile\u001b[39;00m \u001b[39mTrue\u001b[39;00m:\n\u001b[1;32m     24\u001b[0m     \u001b[39mtry\u001b[39;00m:\n\u001b[0;32m---> 25\u001b[0m         \u001b[39mreturn\u001b[39;00m \u001b[39msuper\u001b[39;49m()\u001b[39m.\u001b[39;49mcreate(\u001b[39m*\u001b[39;49margs, \u001b[39m*\u001b[39;49m\u001b[39m*\u001b[39;49mkwargs)\n\u001b[1;32m     26\u001b[0m     \u001b[39mexcept\u001b[39;00m TryAgain \u001b[39mas\u001b[39;00m e:\n\u001b[1;32m     27\u001b[0m         \u001b[39mif\u001b[39;00m timeout \u001b[39mis\u001b[39;00m \u001b[39mnot\u001b[39;00m \u001b[39mNone\u001b[39;00m \u001b[39mand\u001b[39;00m time\u001b[39m.\u001b[39mtime() \u001b[39m>\u001b[39m start \u001b[39m+\u001b[39m timeout:\n",
      "File \u001b[0;32m~/Desktop/Data Science/Projects/Stock_Analyzer_using_LLMs/stock_llm/lib/python3.9/site-packages/openai/api_resources/abstract/engine_api_resource.py:155\u001b[0m, in \u001b[0;36mEngineAPIResource.create\u001b[0;34m(cls, api_key, api_base, api_type, request_id, api_version, organization, **params)\u001b[0m\n\u001b[1;32m    129\u001b[0m \u001b[39m@classmethod\u001b[39m\n\u001b[1;32m    130\u001b[0m \u001b[39mdef\u001b[39;00m \u001b[39mcreate\u001b[39m(\n\u001b[1;32m    131\u001b[0m     \u001b[39mcls\u001b[39m,\n\u001b[0;32m   (...)\u001b[0m\n\u001b[1;32m    138\u001b[0m     \u001b[39m*\u001b[39m\u001b[39m*\u001b[39mparams,\n\u001b[1;32m    139\u001b[0m ):\n\u001b[1;32m    140\u001b[0m     (\n\u001b[1;32m    141\u001b[0m         deployment_id,\n\u001b[1;32m    142\u001b[0m         engine,\n\u001b[0;32m   (...)\u001b[0m\n\u001b[1;32m    152\u001b[0m         api_key, api_base, api_type, api_version, organization, \u001b[39m*\u001b[39m\u001b[39m*\u001b[39mparams\n\u001b[1;32m    153\u001b[0m     )\n\u001b[0;32m--> 155\u001b[0m     response, _, api_key \u001b[39m=\u001b[39m requestor\u001b[39m.\u001b[39;49mrequest(\n\u001b[1;32m    156\u001b[0m         \u001b[39m\"\u001b[39;49m\u001b[39mpost\u001b[39;49m\u001b[39m\"\u001b[39;49m,\n\u001b[1;32m    157\u001b[0m         url,\n\u001b[1;32m    158\u001b[0m         params\u001b[39m=\u001b[39;49mparams,\n\u001b[1;32m    159\u001b[0m         headers\u001b[39m=\u001b[39;49mheaders,\n\u001b[1;32m    160\u001b[0m         stream\u001b[39m=\u001b[39;49mstream,\n\u001b[1;32m    161\u001b[0m         request_id\u001b[39m=\u001b[39;49mrequest_id,\n\u001b[1;32m    162\u001b[0m         request_timeout\u001b[39m=\u001b[39;49mrequest_timeout,\n\u001b[1;32m    163\u001b[0m     )\n\u001b[1;32m    165\u001b[0m     \u001b[39mif\u001b[39;00m stream:\n\u001b[1;32m    166\u001b[0m         \u001b[39m# must be an iterator\u001b[39;00m\n\u001b[1;32m    167\u001b[0m         \u001b[39massert\u001b[39;00m \u001b[39mnot\u001b[39;00m \u001b[39misinstance\u001b[39m(response, OpenAIResponse)\n",
      "File \u001b[0;32m~/Desktop/Data Science/Projects/Stock_Analyzer_using_LLMs/stock_llm/lib/python3.9/site-packages/openai/api_requestor.py:289\u001b[0m, in \u001b[0;36mAPIRequestor.request\u001b[0;34m(self, method, url, params, headers, files, stream, request_id, request_timeout)\u001b[0m\n\u001b[1;32m    278\u001b[0m \u001b[39mdef\u001b[39;00m \u001b[39mrequest\u001b[39m(\n\u001b[1;32m    279\u001b[0m     \u001b[39mself\u001b[39m,\n\u001b[1;32m    280\u001b[0m     method,\n\u001b[0;32m   (...)\u001b[0m\n\u001b[1;32m    287\u001b[0m     request_timeout: Optional[Union[\u001b[39mfloat\u001b[39m, Tuple[\u001b[39mfloat\u001b[39m, \u001b[39mfloat\u001b[39m]]] \u001b[39m=\u001b[39m \u001b[39mNone\u001b[39;00m,\n\u001b[1;32m    288\u001b[0m ) \u001b[39m-\u001b[39m\u001b[39m>\u001b[39m Tuple[Union[OpenAIResponse, Iterator[OpenAIResponse]], \u001b[39mbool\u001b[39m, \u001b[39mstr\u001b[39m]:\n\u001b[0;32m--> 289\u001b[0m     result \u001b[39m=\u001b[39m \u001b[39mself\u001b[39;49m\u001b[39m.\u001b[39;49mrequest_raw(\n\u001b[1;32m    290\u001b[0m         method\u001b[39m.\u001b[39;49mlower(),\n\u001b[1;32m    291\u001b[0m         url,\n\u001b[1;32m    292\u001b[0m         params\u001b[39m=\u001b[39;49mparams,\n\u001b[1;32m    293\u001b[0m         supplied_headers\u001b[39m=\u001b[39;49mheaders,\n\u001b[1;32m    294\u001b[0m         files\u001b[39m=\u001b[39;49mfiles,\n\u001b[1;32m    295\u001b[0m         stream\u001b[39m=\u001b[39;49mstream,\n\u001b[1;32m    296\u001b[0m         request_id\u001b[39m=\u001b[39;49mrequest_id,\n\u001b[1;32m    297\u001b[0m         request_timeout\u001b[39m=\u001b[39;49mrequest_timeout,\n\u001b[1;32m    298\u001b[0m     )\n\u001b[1;32m    299\u001b[0m     resp, got_stream \u001b[39m=\u001b[39m \u001b[39mself\u001b[39m\u001b[39m.\u001b[39m_interpret_response(result, stream)\n\u001b[1;32m    300\u001b[0m     \u001b[39mreturn\u001b[39;00m resp, got_stream, \u001b[39mself\u001b[39m\u001b[39m.\u001b[39mapi_key\n",
      "File \u001b[0;32m~/Desktop/Data Science/Projects/Stock_Analyzer_using_LLMs/stock_llm/lib/python3.9/site-packages/openai/api_requestor.py:606\u001b[0m, in \u001b[0;36mAPIRequestor.request_raw\u001b[0;34m(self, method, url, params, supplied_headers, files, stream, request_id, request_timeout)\u001b[0m\n\u001b[1;32m    604\u001b[0m     _thread_context\u001b[39m.\u001b[39msession_create_time \u001b[39m=\u001b[39m time\u001b[39m.\u001b[39mtime()\n\u001b[1;32m    605\u001b[0m \u001b[39mtry\u001b[39;00m:\n\u001b[0;32m--> 606\u001b[0m     result \u001b[39m=\u001b[39m _thread_context\u001b[39m.\u001b[39;49msession\u001b[39m.\u001b[39;49mrequest(\n\u001b[1;32m    607\u001b[0m         method,\n\u001b[1;32m    608\u001b[0m         abs_url,\n\u001b[1;32m    609\u001b[0m         headers\u001b[39m=\u001b[39;49mheaders,\n\u001b[1;32m    610\u001b[0m         data\u001b[39m=\u001b[39;49mdata,\n\u001b[1;32m    611\u001b[0m         files\u001b[39m=\u001b[39;49mfiles,\n\u001b[1;32m    612\u001b[0m         stream\u001b[39m=\u001b[39;49mstream,\n\u001b[1;32m    613\u001b[0m         timeout\u001b[39m=\u001b[39;49mrequest_timeout \u001b[39mif\u001b[39;49;00m request_timeout \u001b[39melse\u001b[39;49;00m TIMEOUT_SECS,\n\u001b[1;32m    614\u001b[0m         proxies\u001b[39m=\u001b[39;49m_thread_context\u001b[39m.\u001b[39;49msession\u001b[39m.\u001b[39;49mproxies,\n\u001b[1;32m    615\u001b[0m     )\n\u001b[1;32m    616\u001b[0m \u001b[39mexcept\u001b[39;00m requests\u001b[39m.\u001b[39mexceptions\u001b[39m.\u001b[39mTimeout \u001b[39mas\u001b[39;00m e:\n\u001b[1;32m    617\u001b[0m     \u001b[39mraise\u001b[39;00m error\u001b[39m.\u001b[39mTimeout(\u001b[39m\"\u001b[39m\u001b[39mRequest timed out: \u001b[39m\u001b[39m{}\u001b[39;00m\u001b[39m\"\u001b[39m\u001b[39m.\u001b[39mformat(e)) \u001b[39mfrom\u001b[39;00m \u001b[39me\u001b[39;00m\n",
      "File \u001b[0;32m~/Desktop/Data Science/Projects/Stock_Analyzer_using_LLMs/stock_llm/lib/python3.9/site-packages/requests/sessions.py:589\u001b[0m, in \u001b[0;36mSession.request\u001b[0;34m(self, method, url, params, data, headers, cookies, files, auth, timeout, allow_redirects, proxies, hooks, stream, verify, cert, json)\u001b[0m\n\u001b[1;32m    584\u001b[0m send_kwargs \u001b[39m=\u001b[39m {\n\u001b[1;32m    585\u001b[0m     \u001b[39m\"\u001b[39m\u001b[39mtimeout\u001b[39m\u001b[39m\"\u001b[39m: timeout,\n\u001b[1;32m    586\u001b[0m     \u001b[39m\"\u001b[39m\u001b[39mallow_redirects\u001b[39m\u001b[39m\"\u001b[39m: allow_redirects,\n\u001b[1;32m    587\u001b[0m }\n\u001b[1;32m    588\u001b[0m send_kwargs\u001b[39m.\u001b[39mupdate(settings)\n\u001b[0;32m--> 589\u001b[0m resp \u001b[39m=\u001b[39m \u001b[39mself\u001b[39;49m\u001b[39m.\u001b[39;49msend(prep, \u001b[39m*\u001b[39;49m\u001b[39m*\u001b[39;49msend_kwargs)\n\u001b[1;32m    591\u001b[0m \u001b[39mreturn\u001b[39;00m resp\n",
      "File \u001b[0;32m~/Desktop/Data Science/Projects/Stock_Analyzer_using_LLMs/stock_llm/lib/python3.9/site-packages/requests/sessions.py:703\u001b[0m, in \u001b[0;36mSession.send\u001b[0;34m(self, request, **kwargs)\u001b[0m\n\u001b[1;32m    700\u001b[0m start \u001b[39m=\u001b[39m preferred_clock()\n\u001b[1;32m    702\u001b[0m \u001b[39m# Send the request\u001b[39;00m\n\u001b[0;32m--> 703\u001b[0m r \u001b[39m=\u001b[39m adapter\u001b[39m.\u001b[39;49msend(request, \u001b[39m*\u001b[39;49m\u001b[39m*\u001b[39;49mkwargs)\n\u001b[1;32m    705\u001b[0m \u001b[39m# Total elapsed time of the request (approximately)\u001b[39;00m\n\u001b[1;32m    706\u001b[0m elapsed \u001b[39m=\u001b[39m preferred_clock() \u001b[39m-\u001b[39m start\n",
      "File \u001b[0;32m~/Desktop/Data Science/Projects/Stock_Analyzer_using_LLMs/stock_llm/lib/python3.9/site-packages/requests/adapters.py:486\u001b[0m, in \u001b[0;36mHTTPAdapter.send\u001b[0;34m(self, request, stream, timeout, verify, cert, proxies)\u001b[0m\n\u001b[1;32m    483\u001b[0m     timeout \u001b[39m=\u001b[39m TimeoutSauce(connect\u001b[39m=\u001b[39mtimeout, read\u001b[39m=\u001b[39mtimeout)\n\u001b[1;32m    485\u001b[0m \u001b[39mtry\u001b[39;00m:\n\u001b[0;32m--> 486\u001b[0m     resp \u001b[39m=\u001b[39m conn\u001b[39m.\u001b[39;49murlopen(\n\u001b[1;32m    487\u001b[0m         method\u001b[39m=\u001b[39;49mrequest\u001b[39m.\u001b[39;49mmethod,\n\u001b[1;32m    488\u001b[0m         url\u001b[39m=\u001b[39;49murl,\n\u001b[1;32m    489\u001b[0m         body\u001b[39m=\u001b[39;49mrequest\u001b[39m.\u001b[39;49mbody,\n\u001b[1;32m    490\u001b[0m         headers\u001b[39m=\u001b[39;49mrequest\u001b[39m.\u001b[39;49mheaders,\n\u001b[1;32m    491\u001b[0m         redirect\u001b[39m=\u001b[39;49m\u001b[39mFalse\u001b[39;49;00m,\n\u001b[1;32m    492\u001b[0m         assert_same_host\u001b[39m=\u001b[39;49m\u001b[39mFalse\u001b[39;49;00m,\n\u001b[1;32m    493\u001b[0m         preload_content\u001b[39m=\u001b[39;49m\u001b[39mFalse\u001b[39;49;00m,\n\u001b[1;32m    494\u001b[0m         decode_content\u001b[39m=\u001b[39;49m\u001b[39mFalse\u001b[39;49;00m,\n\u001b[1;32m    495\u001b[0m         retries\u001b[39m=\u001b[39;49m\u001b[39mself\u001b[39;49m\u001b[39m.\u001b[39;49mmax_retries,\n\u001b[1;32m    496\u001b[0m         timeout\u001b[39m=\u001b[39;49mtimeout,\n\u001b[1;32m    497\u001b[0m         chunked\u001b[39m=\u001b[39;49mchunked,\n\u001b[1;32m    498\u001b[0m     )\n\u001b[1;32m    500\u001b[0m \u001b[39mexcept\u001b[39;00m (ProtocolError, \u001b[39mOSError\u001b[39;00m) \u001b[39mas\u001b[39;00m err:\n\u001b[1;32m    501\u001b[0m     \u001b[39mraise\u001b[39;00m \u001b[39mConnectionError\u001b[39;00m(err, request\u001b[39m=\u001b[39mrequest)\n",
      "File \u001b[0;32m~/Desktop/Data Science/Projects/Stock_Analyzer_using_LLMs/stock_llm/lib/python3.9/site-packages/urllib3/connectionpool.py:790\u001b[0m, in \u001b[0;36mHTTPConnectionPool.urlopen\u001b[0;34m(self, method, url, body, headers, retries, redirect, assert_same_host, timeout, pool_timeout, release_conn, chunked, body_pos, preload_content, decode_content, **response_kw)\u001b[0m\n\u001b[1;32m    787\u001b[0m response_conn \u001b[39m=\u001b[39m conn \u001b[39mif\u001b[39;00m \u001b[39mnot\u001b[39;00m release_conn \u001b[39melse\u001b[39;00m \u001b[39mNone\u001b[39;00m\n\u001b[1;32m    789\u001b[0m \u001b[39m# Make the request on the HTTPConnection object\u001b[39;00m\n\u001b[0;32m--> 790\u001b[0m response \u001b[39m=\u001b[39m \u001b[39mself\u001b[39;49m\u001b[39m.\u001b[39;49m_make_request(\n\u001b[1;32m    791\u001b[0m     conn,\n\u001b[1;32m    792\u001b[0m     method,\n\u001b[1;32m    793\u001b[0m     url,\n\u001b[1;32m    794\u001b[0m     timeout\u001b[39m=\u001b[39;49mtimeout_obj,\n\u001b[1;32m    795\u001b[0m     body\u001b[39m=\u001b[39;49mbody,\n\u001b[1;32m    796\u001b[0m     headers\u001b[39m=\u001b[39;49mheaders,\n\u001b[1;32m    797\u001b[0m     chunked\u001b[39m=\u001b[39;49mchunked,\n\u001b[1;32m    798\u001b[0m     retries\u001b[39m=\u001b[39;49mretries,\n\u001b[1;32m    799\u001b[0m     response_conn\u001b[39m=\u001b[39;49mresponse_conn,\n\u001b[1;32m    800\u001b[0m     preload_content\u001b[39m=\u001b[39;49mpreload_content,\n\u001b[1;32m    801\u001b[0m     decode_content\u001b[39m=\u001b[39;49mdecode_content,\n\u001b[1;32m    802\u001b[0m     \u001b[39m*\u001b[39;49m\u001b[39m*\u001b[39;49mresponse_kw,\n\u001b[1;32m    803\u001b[0m )\n\u001b[1;32m    805\u001b[0m \u001b[39m# Everything went great!\u001b[39;00m\n\u001b[1;32m    806\u001b[0m clean_exit \u001b[39m=\u001b[39m \u001b[39mTrue\u001b[39;00m\n",
      "File \u001b[0;32m~/Desktop/Data Science/Projects/Stock_Analyzer_using_LLMs/stock_llm/lib/python3.9/site-packages/urllib3/connectionpool.py:536\u001b[0m, in \u001b[0;36mHTTPConnectionPool._make_request\u001b[0;34m(self, conn, method, url, body, headers, retries, timeout, chunked, response_conn, preload_content, decode_content, enforce_content_length)\u001b[0m\n\u001b[1;32m    534\u001b[0m \u001b[39m# Receive the response from the server\u001b[39;00m\n\u001b[1;32m    535\u001b[0m \u001b[39mtry\u001b[39;00m:\n\u001b[0;32m--> 536\u001b[0m     response \u001b[39m=\u001b[39m conn\u001b[39m.\u001b[39;49mgetresponse()\n\u001b[1;32m    537\u001b[0m \u001b[39mexcept\u001b[39;00m (BaseSSLError, \u001b[39mOSError\u001b[39;00m) \u001b[39mas\u001b[39;00m e:\n\u001b[1;32m    538\u001b[0m     \u001b[39mself\u001b[39m\u001b[39m.\u001b[39m_raise_timeout(err\u001b[39m=\u001b[39me, url\u001b[39m=\u001b[39murl, timeout_value\u001b[39m=\u001b[39mread_timeout)\n",
      "File \u001b[0;32m~/Desktop/Data Science/Projects/Stock_Analyzer_using_LLMs/stock_llm/lib/python3.9/site-packages/urllib3/connection.py:461\u001b[0m, in \u001b[0;36mHTTPConnection.getresponse\u001b[0;34m(self)\u001b[0m\n\u001b[1;32m    458\u001b[0m \u001b[39mfrom\u001b[39;00m \u001b[39m.\u001b[39;00m\u001b[39mresponse\u001b[39;00m \u001b[39mimport\u001b[39;00m HTTPResponse\n\u001b[1;32m    460\u001b[0m \u001b[39m# Get the response from http.client.HTTPConnection\u001b[39;00m\n\u001b[0;32m--> 461\u001b[0m httplib_response \u001b[39m=\u001b[39m \u001b[39msuper\u001b[39;49m()\u001b[39m.\u001b[39;49mgetresponse()\n\u001b[1;32m    463\u001b[0m \u001b[39mtry\u001b[39;00m:\n\u001b[1;32m    464\u001b[0m     assert_header_parsing(httplib_response\u001b[39m.\u001b[39mmsg)\n",
      "File \u001b[0;32m/Library/Frameworks/Python.framework/Versions/3.9/lib/python3.9/http/client.py:1377\u001b[0m, in \u001b[0;36mHTTPConnection.getresponse\u001b[0;34m(self)\u001b[0m\n\u001b[1;32m   1375\u001b[0m \u001b[39mtry\u001b[39;00m:\n\u001b[1;32m   1376\u001b[0m     \u001b[39mtry\u001b[39;00m:\n\u001b[0;32m-> 1377\u001b[0m         response\u001b[39m.\u001b[39;49mbegin()\n\u001b[1;32m   1378\u001b[0m     \u001b[39mexcept\u001b[39;00m \u001b[39mConnectionError\u001b[39;00m:\n\u001b[1;32m   1379\u001b[0m         \u001b[39mself\u001b[39m\u001b[39m.\u001b[39mclose()\n",
      "File \u001b[0;32m/Library/Frameworks/Python.framework/Versions/3.9/lib/python3.9/http/client.py:320\u001b[0m, in \u001b[0;36mHTTPResponse.begin\u001b[0;34m(self)\u001b[0m\n\u001b[1;32m    318\u001b[0m \u001b[39m# read until we get a non-100 response\u001b[39;00m\n\u001b[1;32m    319\u001b[0m \u001b[39mwhile\u001b[39;00m \u001b[39mTrue\u001b[39;00m:\n\u001b[0;32m--> 320\u001b[0m     version, status, reason \u001b[39m=\u001b[39m \u001b[39mself\u001b[39;49m\u001b[39m.\u001b[39;49m_read_status()\n\u001b[1;32m    321\u001b[0m     \u001b[39mif\u001b[39;00m status \u001b[39m!=\u001b[39m CONTINUE:\n\u001b[1;32m    322\u001b[0m         \u001b[39mbreak\u001b[39;00m\n",
      "File \u001b[0;32m/Library/Frameworks/Python.framework/Versions/3.9/lib/python3.9/http/client.py:281\u001b[0m, in \u001b[0;36mHTTPResponse._read_status\u001b[0;34m(self)\u001b[0m\n\u001b[1;32m    280\u001b[0m \u001b[39mdef\u001b[39;00m \u001b[39m_read_status\u001b[39m(\u001b[39mself\u001b[39m):\n\u001b[0;32m--> 281\u001b[0m     line \u001b[39m=\u001b[39m \u001b[39mstr\u001b[39m(\u001b[39mself\u001b[39;49m\u001b[39m.\u001b[39;49mfp\u001b[39m.\u001b[39;49mreadline(_MAXLINE \u001b[39m+\u001b[39;49m \u001b[39m1\u001b[39;49m), \u001b[39m\"\u001b[39m\u001b[39miso-8859-1\u001b[39m\u001b[39m\"\u001b[39m)\n\u001b[1;32m    282\u001b[0m     \u001b[39mif\u001b[39;00m \u001b[39mlen\u001b[39m(line) \u001b[39m>\u001b[39m _MAXLINE:\n\u001b[1;32m    283\u001b[0m         \u001b[39mraise\u001b[39;00m LineTooLong(\u001b[39m\"\u001b[39m\u001b[39mstatus line\u001b[39m\u001b[39m\"\u001b[39m)\n",
      "File \u001b[0;32m/Library/Frameworks/Python.framework/Versions/3.9/lib/python3.9/socket.py:704\u001b[0m, in \u001b[0;36mSocketIO.readinto\u001b[0;34m(self, b)\u001b[0m\n\u001b[1;32m    702\u001b[0m \u001b[39mwhile\u001b[39;00m \u001b[39mTrue\u001b[39;00m:\n\u001b[1;32m    703\u001b[0m     \u001b[39mtry\u001b[39;00m:\n\u001b[0;32m--> 704\u001b[0m         \u001b[39mreturn\u001b[39;00m \u001b[39mself\u001b[39;49m\u001b[39m.\u001b[39;49m_sock\u001b[39m.\u001b[39;49mrecv_into(b)\n\u001b[1;32m    705\u001b[0m     \u001b[39mexcept\u001b[39;00m timeout:\n\u001b[1;32m    706\u001b[0m         \u001b[39mself\u001b[39m\u001b[39m.\u001b[39m_timeout_occurred \u001b[39m=\u001b[39m \u001b[39mTrue\u001b[39;00m\n",
      "File \u001b[0;32m/Library/Frameworks/Python.framework/Versions/3.9/lib/python3.9/ssl.py:1241\u001b[0m, in \u001b[0;36mSSLSocket.recv_into\u001b[0;34m(self, buffer, nbytes, flags)\u001b[0m\n\u001b[1;32m   1237\u001b[0m     \u001b[39mif\u001b[39;00m flags \u001b[39m!=\u001b[39m \u001b[39m0\u001b[39m:\n\u001b[1;32m   1238\u001b[0m         \u001b[39mraise\u001b[39;00m \u001b[39mValueError\u001b[39;00m(\n\u001b[1;32m   1239\u001b[0m           \u001b[39m\"\u001b[39m\u001b[39mnon-zero flags not allowed in calls to recv_into() on \u001b[39m\u001b[39m%s\u001b[39;00m\u001b[39m\"\u001b[39m \u001b[39m%\u001b[39m\n\u001b[1;32m   1240\u001b[0m           \u001b[39mself\u001b[39m\u001b[39m.\u001b[39m\u001b[39m__class__\u001b[39m)\n\u001b[0;32m-> 1241\u001b[0m     \u001b[39mreturn\u001b[39;00m \u001b[39mself\u001b[39;49m\u001b[39m.\u001b[39;49mread(nbytes, buffer)\n\u001b[1;32m   1242\u001b[0m \u001b[39melse\u001b[39;00m:\n\u001b[1;32m   1243\u001b[0m     \u001b[39mreturn\u001b[39;00m \u001b[39msuper\u001b[39m()\u001b[39m.\u001b[39mrecv_into(buffer, nbytes, flags)\n",
      "File \u001b[0;32m/Library/Frameworks/Python.framework/Versions/3.9/lib/python3.9/ssl.py:1099\u001b[0m, in \u001b[0;36mSSLSocket.read\u001b[0;34m(self, len, buffer)\u001b[0m\n\u001b[1;32m   1097\u001b[0m \u001b[39mtry\u001b[39;00m:\n\u001b[1;32m   1098\u001b[0m     \u001b[39mif\u001b[39;00m buffer \u001b[39mis\u001b[39;00m \u001b[39mnot\u001b[39;00m \u001b[39mNone\u001b[39;00m:\n\u001b[0;32m-> 1099\u001b[0m         \u001b[39mreturn\u001b[39;00m \u001b[39mself\u001b[39;49m\u001b[39m.\u001b[39;49m_sslobj\u001b[39m.\u001b[39;49mread(\u001b[39mlen\u001b[39;49m, buffer)\n\u001b[1;32m   1100\u001b[0m     \u001b[39melse\u001b[39;00m:\n\u001b[1;32m   1101\u001b[0m         \u001b[39mreturn\u001b[39;00m \u001b[39mself\u001b[39m\u001b[39m.\u001b[39m_sslobj\u001b[39m.\u001b[39mread(\u001b[39mlen\u001b[39m)\n",
      "\u001b[0;31mKeyboardInterrupt\u001b[0m: "
     ]
    }
   ],
   "source": [
    "zero_shot_agent(\"Is Bajaj Finance a good investment choice right now?\")"
   ]
  },
  {
   "cell_type": "code",
   "execution_count": null,
   "metadata": {},
   "outputs": [],
   "source": []
  },
  {
   "cell_type": "markdown",
   "metadata": {},
   "source": [
    "### Approach 2"
   ]
  },
  {
   "cell_type": "code",
   "execution_count": 27,
   "metadata": {},
   "outputs": [],
   "source": [
    "import openai\n",
    "from langchain.llms import OpenAI\n",
    "\n",
    "llm=OpenAI(temperature=0,\n",
    "           model_name=\"gpt-3.5-turbo-16k-0613\")"
   ]
  },
  {
   "cell_type": "code",
   "execution_count": 28,
   "metadata": {},
   "outputs": [
    {
     "data": {
      "text/plain": [
       "('Paytm', 'PAYTM')"
      ]
     },
     "execution_count": 28,
     "metadata": {},
     "output_type": "execute_result"
    }
   ],
   "source": [
    "\n",
    "#Openai function calling\n",
    "\n",
    "import json\n",
    "function=[\n",
    "        {\n",
    "        \"name\": \"get_company_Stock_ticker\",\n",
    "        \"description\": \"This will get the indian NSE/BSE stock ticker of the company\",\n",
    "        \"parameters\": {\n",
    "            \"type\": \"object\",\n",
    "            \"properties\": {\n",
    "                \"ticker_symbol\": {\n",
    "                    \"type\": \"string\",\n",
    "                    \"description\": \"This is the stock symbol of the company.\",\n",
    "                },\n",
    "\n",
    "                \"company_name\": {\n",
    "                    \"type\": \"string\",\n",
    "                    \"description\": \"This is the name of the company given in query\",\n",
    "                }\n",
    "            },\n",
    "            \"required\": [\"company_name\",\"ticker_symbol\"],\n",
    "        },\n",
    "    }\n",
    "]\n",
    "\n",
    "\n",
    "\n",
    "def get_stock_ticker(query):\n",
    "    response = openai.ChatCompletion.create(\n",
    "            model=\"gpt-3.5-turbo\",\n",
    "            temperature=0,\n",
    "            messages=[{\n",
    "                \"role\":\"user\",\n",
    "                \"content\":f\"Given the user request, what is the comapany name and the company stock ticker ?: {query}?\"\n",
    "            }],\n",
    "            functions=function,\n",
    "            function_call={\"name\": \"get_company_Stock_ticker\"},\n",
    "    )\n",
    "    message = response[\"choices\"][0][\"message\"]\n",
    "    arguments = json.loads(message[\"function_call\"][\"arguments\"])\n",
    "    company_name = arguments[\"company_name\"]\n",
    "    company_ticker = arguments[\"ticker_symbol\"]\n",
    "    return company_name,company_ticker\n",
    "\n",
    "get_stock_ticker(\"How is ths stock of Paytm doing?\")"
   ]
  },
  {
   "cell_type": "code",
   "execution_count": 29,
   "metadata": {},
   "outputs": [],
   "source": [
    "def Anazlyze_stock(query):\n",
    "    #agent.run(query) Outputs Company name, Ticker\n",
    "    Company_name,ticker=get_stock_ticker(query)\n",
    "    print({\"Query\":query,\"Company_name\":Company_name,\"Ticker\":ticker})\n",
    "    stock_data=get_stock_price(ticker,history=10)\n",
    "    stock_financials=get_financial_statements(ticker)\n",
    "    stock_news=get_recent_stock_news(Company_name)\n",
    "\n",
    "    # available_information=f\"Stock Price: {stock_data}\\n\\nStock Financials: {stock_financials}\\n\\nStock News: {stock_news}\"\n",
    "    available_information=f\"Stock Financials: {stock_financials}\\n\\nStock News: {stock_news}\"\n",
    "\n",
    "    print(\"\\n\\nAnalyzing.....\\n\")\n",
    "    analysis=llm(f\"Give detail stock analysis, Use the available data and provide investment recommendation. \\\n",
    "             The user is fully aware about the investment risk, dont include any kind of warning like 'It is recommended to conduct further research and analysis or consult with a financial advisor before making an investment decision' in the answer \\\n",
    "             User question: {query} \\\n",
    "             You have the following information available about {Company_name}. Write (5-8) pointwise investment analysis to answer user query, At the end conclude with proper explaination.Try to Give positives and negatives  : \\\n",
    "              {available_information} \"\n",
    "             )\n",
    "    print(analysis)\n",
    "\n",
    "    return analysis"
   ]
  },
  {
   "cell_type": "code",
   "execution_count": 30,
   "metadata": {},
   "outputs": [
    {
     "name": "stdout",
     "output_type": "stream",
     "text": [
      "{'Query': 'Shall I invest in Adani power right now?', 'Company_name': 'Adani Power', 'Ticker': 'ADANIPOWER'}\n",
      "\n",
      "\n",
      "Analyzing.....\n",
      "\n",
      "Based on the available data and recent news, here is a detailed stock analysis of Adani Power:\n",
      "\n",
      "1. Financials: Adani Power has shown consistent growth in its financials over the past three years. The company's total equity, tangible book value, and invested capital have all increased steadily. However, there has been a negative trend in retained earnings, which is a cause for concern.\n",
      "\n",
      "2. Debt: Adani Power has a significant amount of debt, with net debt and total debt increasing over the years. This indicates that the company relies heavily on borrowed funds to finance its operations. Investors should consider the impact of this debt on the company's financial stability and ability to generate profits.\n",
      "\n",
      "3. Working Capital: Adani Power has shown a mixed trend in working capital. While it had a positive working capital in 2023, it had negative working capital in 2022 and 2021. Negative working capital can be a sign of liquidity issues and may affect the company's ability to meet its short-term obligations.\n",
      "\n",
      "4. Stock Performance: Adani Power's stock price has shown positive momentum recently, with a 4% increase in the latest trading session. This indicates that there is currently buying interest in the stock. However, it is important to note that past performance is not indicative of future results.\n",
      "\n",
      "5. Industry Outlook: The power sector in India is undergoing significant changes, with a focus on renewable energy and sustainability. Adani Power's ability to adapt to these changes and invest in renewable energy sources will be crucial for its long-term growth and profitability.\n",
      "\n",
      "Based on the above analysis, here is the investment recommendation:\n",
      "\n",
      "Investment Recommendation: Considering the positive momentum in Adani Power's stock price and the company's growth potential in the evolving power sector, it may be worth considering an investment in Adani Power. However, investors should carefully evaluate the company's debt levels and its ability to generate profits in the face of changing industry dynamics. It is recommended to closely monitor the company's financial performance and industry trends before making an investment decision.\n",
      "\n",
      "Please note that this analysis is based on the available data and recent news, and it is important to conduct further research and analysis or consult with a financial advisor before making an investment decision.\n"
     ]
    }
   ],
   "source": [
    "out=Anazlyze_stock(\"Shall I invest in Adani power right now?\")  "
   ]
  },
  {
   "cell_type": "code",
   "execution_count": 31,
   "metadata": {},
   "outputs": [
    {
     "name": "stdout",
     "output_type": "stream",
     "text": [
      "{'Query': 'Is it a good time to invest in Yes Bank?', 'Company_name': 'Yes Bank', 'Ticker': 'YESBANK'}\n",
      "\n",
      "\n",
      "Analyzing.....\n",
      "\n",
      "1. Financial Stability: Yes Bank has shown improvement in its financials over the past three years. The total equity, common stock equity, and net tangible assets have increased consistently, indicating a stronger financial position.\n",
      "\n",
      "2. Debt Levels: The company's net debt and total debt have increased over the years, which could be a concern. However, the increase in debt is accompanied by an increase in invested capital, suggesting that the company is utilizing the borrowed funds for growth and expansion.\n",
      "\n",
      "3. Investments and Advances: Yes Bank has made significant investments and advances, which indicates its focus on diversifying its revenue streams and generating additional income. This could potentially lead to higher profitability in the future.\n",
      "\n",
      "4. Cash and Cash Equivalents: The company has a substantial amount of cash and cash equivalents, which provides a cushion for any unforeseen events or financial obligations. This liquidity can also be utilized for future investments or acquisitions.\n",
      "\n",
      "5. Stock Performance: Yes Bank shares have recently rebounded after a three-day fall, indicating a positive sentiment among investors. This could be attributed to favorable news and analyst opinions, which have contributed to the increase in stock price.\n",
      "\n",
      "6. Market Volatility: It is important to note that the stock market is subject to volatility and uncertainties. The recent rebound in Yes Bank shares does not guarantee future performance, and there may be risks associated with investing in the stock.\n",
      "\n",
      "Based on the available data, it appears that Yes Bank has shown improvement in its financial stability and has made strategic investments and advances. However, the increase in debt levels should be monitored closely. The recent rebound in stock price indicates positive sentiment, but it is important to consider the overall market conditions and potential risks before making an investment decision.\n"
     ]
    },
    {
     "data": {
      "text/plain": [
       "\"1. Financial Stability: Yes Bank has shown improvement in its financials over the past three years. The total equity, common stock equity, and net tangible assets have increased consistently, indicating a stronger financial position.\\n\\n2. Debt Levels: The company's net debt and total debt have increased over the years, which could be a concern. However, the increase in debt is accompanied by an increase in invested capital, suggesting that the company is utilizing the borrowed funds for growth and expansion.\\n\\n3. Investments and Advances: Yes Bank has made significant investments and advances, which indicates its focus on diversifying its revenue streams and generating additional income. This could potentially lead to higher profitability in the future.\\n\\n4. Cash and Cash Equivalents: The company has a substantial amount of cash and cash equivalents, which provides a cushion for any unforeseen events or financial obligations. This liquidity can also be utilized for future investments or acquisitions.\\n\\n5. Stock Performance: Yes Bank shares have recently rebounded after a three-day fall, indicating a positive sentiment among investors. This could be attributed to favorable news and analyst opinions, which have contributed to the increase in stock price.\\n\\n6. Market Volatility: It is important to note that the stock market is subject to volatility and uncertainties. The recent rebound in Yes Bank shares does not guarantee future performance, and there may be risks associated with investing in the stock.\\n\\nBased on the available data, it appears that Yes Bank has shown improvement in its financial stability and has made strategic investments and advances. However, the increase in debt levels should be monitored closely. The recent rebound in stock price indicates positive sentiment, but it is important to consider the overall market conditions and potential risks before making an investment decision.\""
      ]
     },
     "execution_count": 31,
     "metadata": {},
     "output_type": "execute_result"
    }
   ],
   "source": [
    "Anazlyze_stock(\"Is it a good time to invest in Yes Bank?\")   "
   ]
  },
  {
   "cell_type": "code",
   "execution_count": 32,
   "metadata": {},
   "outputs": [
    {
     "name": "stdout",
     "output_type": "stream",
     "text": [
      "{'Query': 'How vednata share is doing?', 'Company_name': 'Vedanta', 'Ticker': 'VEDL'}\n",
      "\n",
      "\n",
      "Analyzing.....\n",
      "\n",
      "1. The number of ordinary shares for Vedanta has remained relatively stable over the past three years, indicating no significant dilution or increase in share capital.\n",
      "2. The net debt of Vedanta has increased significantly from 2021 to 2023, indicating a higher level of leverage and potential financial risk for the company.\n",
      "3. The tangible book value of Vedanta has decreased from 2021 to 2022, but then increased in 2023. This indicates that the company's assets are primarily composed of tangible assets such as property, plant, and equipment.\n",
      "4. The working capital of Vedanta has fluctuated over the past three years, with a negative value in 2021 and a positive value in 2022 and 2023. This indicates that the company may have had difficulty in meeting its short-term obligations in 2021 but has improved its liquidity position in the subsequent years.\n",
      "5. The total equity of Vedanta has increased from 2021 to 2023, indicating a positive growth in the company's net worth.\n",
      "6. The retained earnings of Vedanta have fluctuated over the past three years, with a negative value in 2021 and positive values in 2022 and 2023. This indicates that the company has generated profits in the subsequent years, which have been retained for reinvestment or distribution to shareholders.\n",
      "7. The total assets of Vedanta have increased from 2021 to 2023, indicating a growth in the company's asset base.\n",
      "8. The cash and cash equivalents of Vedanta have decreased from 2021 to 2023, indicating a potential decrease in the company's liquidity position.\n",
      "\n",
      "Based on the available data, it can be concluded that Vedanta has experienced some financial challenges in 2021, as indicated by the negative working capital and retained earnings. However, the company has shown improvement in subsequent years, with positive working capital and retained earnings. The increase in total equity and total assets also indicates a positive growth trend for the company.\n",
      "\n",
      "Considering the recent news, it is important to note that CLSA prefers metals and mining stocks such as Vedanta, Tata Steel, JSPL, and Hindalco. This suggests that there may be positive prospects for Vedanta in the metals and mining sector.\n",
      "\n",
      "Overall, based on the available data and recent news, Vedanta shows potential for growth and investment. However, it is important for investors to conduct further research and analysis to fully understand the risks and make an informed investment decision.\n"
     ]
    },
    {
     "data": {
      "text/plain": [
       "\"1. The number of ordinary shares for Vedanta has remained relatively stable over the past three years, indicating no significant dilution or increase in share capital.\\n2. The net debt of Vedanta has increased significantly from 2021 to 2023, indicating a higher level of leverage and potential financial risk for the company.\\n3. The tangible book value of Vedanta has decreased from 2021 to 2022, but then increased in 2023. This indicates that the company's assets are primarily composed of tangible assets such as property, plant, and equipment.\\n4. The working capital of Vedanta has fluctuated over the past three years, with a negative value in 2021 and a positive value in 2022 and 2023. This indicates that the company may have had difficulty in meeting its short-term obligations in 2021 but has improved its liquidity position in the subsequent years.\\n5. The total equity of Vedanta has increased from 2021 to 2023, indicating a positive growth in the company's net worth.\\n6. The retained earnings of Vedanta have fluctuated over the past three years, with a negative value in 2021 and positive values in 2022 and 2023. This indicates that the company has generated profits in the subsequent years, which have been retained for reinvestment or distribution to shareholders.\\n7. The total assets of Vedanta have increased from 2021 to 2023, indicating a growth in the company's asset base.\\n8. The cash and cash equivalents of Vedanta have decreased from 2021 to 2023, indicating a potential decrease in the company's liquidity position.\\n\\nBased on the available data, it can be concluded that Vedanta has experienced some financial challenges in 2021, as indicated by the negative working capital and retained earnings. However, the company has shown improvement in subsequent years, with positive working capital and retained earnings. The increase in total equity and total assets also indicates a positive growth trend for the company.\\n\\nConsidering the recent news, it is important to note that CLSA prefers metals and mining stocks such as Vedanta, Tata Steel, JSPL, and Hindalco. This suggests that there may be positive prospects for Vedanta in the metals and mining sector.\\n\\nOverall, based on the available data and recent news, Vedanta shows potential for growth and investment. However, it is important for investors to conduct further research and analysis to fully understand the risks and make an informed investment decision.\""
      ]
     },
     "execution_count": 32,
     "metadata": {},
     "output_type": "execute_result"
    }
   ],
   "source": [
    "Anazlyze_stock(\"How vednata share is doing?\")    "
   ]
  },
  {
   "cell_type": "code",
   "execution_count": null,
   "metadata": {},
   "outputs": [],
   "source": []
  },
  {
   "cell_type": "code",
   "execution_count": null,
   "metadata": {},
   "outputs": [],
   "source": []
  }
 ],
 "metadata": {
  "kernelspec": {
   "display_name": "stock_llm",
   "language": "python",
   "name": "python3"
  },
  "language_info": {
   "codemirror_mode": {
    "name": "ipython",
    "version": 3
   },
   "file_extension": ".py",
   "mimetype": "text/x-python",
   "name": "python",
   "nbconvert_exporter": "python",
   "pygments_lexer": "ipython3",
   "version": "3.9.12"
  },
  "orig_nbformat": 4
 },
 "nbformat": 4,
 "nbformat_minor": 2
}
